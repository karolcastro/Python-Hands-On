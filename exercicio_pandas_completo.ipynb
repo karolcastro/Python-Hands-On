{
  "nbformat": 4,
  "nbformat_minor": 0,
  "metadata": {
    "colab": {
      "name": "exercicio_pandas.ipynb",
      "version": "0.3.2",
      "provenance": [],
      "collapsed_sections": [],
      "include_colab_link": true
    },
    "kernelspec": {
      "name": "python3",
      "display_name": "Python 3"
    }
  },
  "cells": [
    {
      "cell_type": "markdown",
      "metadata": {
        "id": "view-in-github",
        "colab_type": "text"
      },
      "source": [
        "<a href=\"https://colab.research.google.com/github/karolcastro/Python-Hands-On/blob/master/exercicio_pandas_completo.ipynb\" target=\"_parent\"><img src=\"https://colab.research.google.com/assets/colab-badge.svg\" alt=\"Open In Colab\"/></a>"
      ]
    },
    {
      "metadata": {
        "id": "AJ0L0j2G4GH4",
        "colab_type": "code",
        "colab": {
          "resources": {
            "http://localhost:8080/nbextensions/google.colab/files.js": {
              "data": "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",
              "ok": true,
              "headers": [
                [
                  "content-type",
                  "application/javascript"
                ]
              ],
              "status": 200,
              "status_text": ""
            }
          },
          "base_uri": "https://localhost:8080/",
          "height": 74
        },
        "outputId": "2d1560b5-ad93-46b4-efbb-8220d126bbea"
      },
      "cell_type": "code",
      "source": [
        "import matplotlib.pyplot as plt\n",
        "import pandas as pd\n",
        "from google.colab import files\n",
        "upload = files.upload()"
      ],
      "execution_count": 1,
      "outputs": [
        {
          "output_type": "display_data",
          "data": {
            "text/html": [
              "\n",
              "     <input type=\"file\" id=\"files-e3152faa-cdea-476d-89a2-a5d1fd99b25b\" name=\"files[]\" multiple disabled />\n",
              "     <output id=\"result-e3152faa-cdea-476d-89a2-a5d1fd99b25b\">\n",
              "      Upload widget is only available when the cell has been executed in the\n",
              "      current browser session. Please rerun this cell to enable.\n",
              "      </output>\n",
              "      <script src=\"/nbextensions/google.colab/files.js\"></script> "
            ],
            "text/plain": [
              "<IPython.core.display.HTML object>"
            ]
          },
          "metadata": {
            "tags": []
          }
        },
        {
          "output_type": "stream",
          "text": [
            "Saving tips.csv to tips.csv\n"
          ],
          "name": "stdout"
        }
      ]
    },
    {
      "metadata": {
        "id": "7a5b5qsH4l2H",
        "colab_type": "code",
        "colab": {}
      },
      "cell_type": "code",
      "source": [
        "tips_data = pd.read_csv ('tips.csv')"
      ],
      "execution_count": 0,
      "outputs": []
    },
    {
      "metadata": {
        "id": "zJFEg1QE4x3j",
        "colab_type": "code",
        "colab": {
          "base_uri": "https://localhost:8080/",
          "height": 1969
        },
        "outputId": "96fa4dd6-51d1-41fe-9c02-8b89ad52e78f"
      },
      "cell_type": "code",
      "source": [
        "tips_data"
      ],
      "execution_count": 3,
      "outputs": [
        {
          "output_type": "execute_result",
          "data": {
            "text/html": [
              "<div>\n",
              "<style scoped>\n",
              "    .dataframe tbody tr th:only-of-type {\n",
              "        vertical-align: middle;\n",
              "    }\n",
              "\n",
              "    .dataframe tbody tr th {\n",
              "        vertical-align: top;\n",
              "    }\n",
              "\n",
              "    .dataframe thead th {\n",
              "        text-align: right;\n",
              "    }\n",
              "</style>\n",
              "<table border=\"1\" class=\"dataframe\">\n",
              "  <thead>\n",
              "    <tr style=\"text-align: right;\">\n",
              "      <th></th>\n",
              "      <th>total_conta</th>\n",
              "      <th>gorjeta</th>\n",
              "      <th>genero</th>\n",
              "      <th>fumante</th>\n",
              "      <th>dia</th>\n",
              "      <th>horario</th>\n",
              "      <th>pessoas_mesa</th>\n",
              "      <th>tempo_permanencia</th>\n",
              "    </tr>\n",
              "  </thead>\n",
              "  <tbody>\n",
              "    <tr>\n",
              "      <th>0</th>\n",
              "      <td>16.99</td>\n",
              "      <td>1.01</td>\n",
              "      <td>Feminino</td>\n",
              "      <td>nao</td>\n",
              "      <td>dom</td>\n",
              "      <td>jantar</td>\n",
              "      <td>2</td>\n",
              "      <td>41</td>\n",
              "    </tr>\n",
              "    <tr>\n",
              "      <th>1</th>\n",
              "      <td>10.34</td>\n",
              "      <td>1.66</td>\n",
              "      <td>Masculino</td>\n",
              "      <td>nao</td>\n",
              "      <td>dom</td>\n",
              "      <td>jantar</td>\n",
              "      <td>3</td>\n",
              "      <td>40</td>\n",
              "    </tr>\n",
              "    <tr>\n",
              "      <th>2</th>\n",
              "      <td>21.01</td>\n",
              "      <td>3.50</td>\n",
              "      <td>Masculino</td>\n",
              "      <td>nao</td>\n",
              "      <td>dom</td>\n",
              "      <td>jantar</td>\n",
              "      <td>3</td>\n",
              "      <td>49</td>\n",
              "    </tr>\n",
              "    <tr>\n",
              "      <th>3</th>\n",
              "      <td>23.68</td>\n",
              "      <td>3.31</td>\n",
              "      <td>Masculino</td>\n",
              "      <td>nao</td>\n",
              "      <td>dom</td>\n",
              "      <td>jantar</td>\n",
              "      <td>2</td>\n",
              "      <td>43</td>\n",
              "    </tr>\n",
              "    <tr>\n",
              "      <th>4</th>\n",
              "      <td>24.59</td>\n",
              "      <td>3.61</td>\n",
              "      <td>Feminino</td>\n",
              "      <td>nao</td>\n",
              "      <td>dom</td>\n",
              "      <td>jantar</td>\n",
              "      <td>4</td>\n",
              "      <td>34</td>\n",
              "    </tr>\n",
              "    <tr>\n",
              "      <th>5</th>\n",
              "      <td>25.29</td>\n",
              "      <td>4.71</td>\n",
              "      <td>Masculino</td>\n",
              "      <td>nao</td>\n",
              "      <td>dom</td>\n",
              "      <td>jantar</td>\n",
              "      <td>4</td>\n",
              "      <td>39</td>\n",
              "    </tr>\n",
              "    <tr>\n",
              "      <th>6</th>\n",
              "      <td>8.77</td>\n",
              "      <td>2.00</td>\n",
              "      <td>Masculino</td>\n",
              "      <td>nao</td>\n",
              "      <td>dom</td>\n",
              "      <td>jantar</td>\n",
              "      <td>2</td>\n",
              "      <td>41</td>\n",
              "    </tr>\n",
              "    <tr>\n",
              "      <th>7</th>\n",
              "      <td>26.88</td>\n",
              "      <td>3.12</td>\n",
              "      <td>Masculino</td>\n",
              "      <td>nao</td>\n",
              "      <td>dom</td>\n",
              "      <td>jantar</td>\n",
              "      <td>4</td>\n",
              "      <td>31</td>\n",
              "    </tr>\n",
              "    <tr>\n",
              "      <th>8</th>\n",
              "      <td>15.04</td>\n",
              "      <td>1.96</td>\n",
              "      <td>Masculino</td>\n",
              "      <td>nao</td>\n",
              "      <td>dom</td>\n",
              "      <td>jantar</td>\n",
              "      <td>2</td>\n",
              "      <td>35</td>\n",
              "    </tr>\n",
              "    <tr>\n",
              "      <th>9</th>\n",
              "      <td>14.78</td>\n",
              "      <td>3.23</td>\n",
              "      <td>Masculino</td>\n",
              "      <td>nao</td>\n",
              "      <td>dom</td>\n",
              "      <td>jantar</td>\n",
              "      <td>2</td>\n",
              "      <td>41</td>\n",
              "    </tr>\n",
              "    <tr>\n",
              "      <th>10</th>\n",
              "      <td>10.27</td>\n",
              "      <td>1.71</td>\n",
              "      <td>Masculino</td>\n",
              "      <td>nao</td>\n",
              "      <td>dom</td>\n",
              "      <td>jantar</td>\n",
              "      <td>2</td>\n",
              "      <td>40</td>\n",
              "    </tr>\n",
              "    <tr>\n",
              "      <th>11</th>\n",
              "      <td>35.26</td>\n",
              "      <td>5.00</td>\n",
              "      <td>Feminino</td>\n",
              "      <td>nao</td>\n",
              "      <td>dom</td>\n",
              "      <td>jantar</td>\n",
              "      <td>4</td>\n",
              "      <td>38</td>\n",
              "    </tr>\n",
              "    <tr>\n",
              "      <th>12</th>\n",
              "      <td>15.42</td>\n",
              "      <td>1.57</td>\n",
              "      <td>Masculino</td>\n",
              "      <td>nao</td>\n",
              "      <td>dom</td>\n",
              "      <td>jantar</td>\n",
              "      <td>2</td>\n",
              "      <td>34</td>\n",
              "    </tr>\n",
              "    <tr>\n",
              "      <th>13</th>\n",
              "      <td>18.43</td>\n",
              "      <td>3.00</td>\n",
              "      <td>Masculino</td>\n",
              "      <td>nao</td>\n",
              "      <td>dom</td>\n",
              "      <td>jantar</td>\n",
              "      <td>4</td>\n",
              "      <td>36</td>\n",
              "    </tr>\n",
              "    <tr>\n",
              "      <th>14</th>\n",
              "      <td>14.83</td>\n",
              "      <td>3.02</td>\n",
              "      <td>Feminino</td>\n",
              "      <td>nao</td>\n",
              "      <td>dom</td>\n",
              "      <td>jantar</td>\n",
              "      <td>2</td>\n",
              "      <td>42</td>\n",
              "    </tr>\n",
              "    <tr>\n",
              "      <th>15</th>\n",
              "      <td>21.58</td>\n",
              "      <td>3.92</td>\n",
              "      <td>Masculino</td>\n",
              "      <td>nao</td>\n",
              "      <td>dom</td>\n",
              "      <td>jantar</td>\n",
              "      <td>2</td>\n",
              "      <td>39</td>\n",
              "    </tr>\n",
              "    <tr>\n",
              "      <th>16</th>\n",
              "      <td>10.33</td>\n",
              "      <td>1.67</td>\n",
              "      <td>Feminino</td>\n",
              "      <td>nao</td>\n",
              "      <td>dom</td>\n",
              "      <td>jantar</td>\n",
              "      <td>3</td>\n",
              "      <td>35</td>\n",
              "    </tr>\n",
              "    <tr>\n",
              "      <th>17</th>\n",
              "      <td>16.29</td>\n",
              "      <td>3.71</td>\n",
              "      <td>Masculino</td>\n",
              "      <td>nao</td>\n",
              "      <td>dom</td>\n",
              "      <td>jantar</td>\n",
              "      <td>3</td>\n",
              "      <td>40</td>\n",
              "    </tr>\n",
              "    <tr>\n",
              "      <th>18</th>\n",
              "      <td>16.97</td>\n",
              "      <td>3.50</td>\n",
              "      <td>Feminino</td>\n",
              "      <td>nao</td>\n",
              "      <td>dom</td>\n",
              "      <td>jantar</td>\n",
              "      <td>3</td>\n",
              "      <td>48</td>\n",
              "    </tr>\n",
              "    <tr>\n",
              "      <th>19</th>\n",
              "      <td>20.65</td>\n",
              "      <td>3.35</td>\n",
              "      <td>Masculino</td>\n",
              "      <td>nao</td>\n",
              "      <td>sab</td>\n",
              "      <td>jantar</td>\n",
              "      <td>3</td>\n",
              "      <td>40</td>\n",
              "    </tr>\n",
              "    <tr>\n",
              "      <th>20</th>\n",
              "      <td>17.92</td>\n",
              "      <td>4.08</td>\n",
              "      <td>Masculino</td>\n",
              "      <td>nao</td>\n",
              "      <td>sab</td>\n",
              "      <td>jantar</td>\n",
              "      <td>2</td>\n",
              "      <td>43</td>\n",
              "    </tr>\n",
              "    <tr>\n",
              "      <th>21</th>\n",
              "      <td>20.29</td>\n",
              "      <td>2.75</td>\n",
              "      <td>Feminino</td>\n",
              "      <td>nao</td>\n",
              "      <td>sab</td>\n",
              "      <td>jantar</td>\n",
              "      <td>2</td>\n",
              "      <td>44</td>\n",
              "    </tr>\n",
              "    <tr>\n",
              "      <th>22</th>\n",
              "      <td>15.77</td>\n",
              "      <td>2.23</td>\n",
              "      <td>Feminino</td>\n",
              "      <td>nao</td>\n",
              "      <td>sab</td>\n",
              "      <td>jantar</td>\n",
              "      <td>2</td>\n",
              "      <td>50</td>\n",
              "    </tr>\n",
              "    <tr>\n",
              "      <th>23</th>\n",
              "      <td>39.42</td>\n",
              "      <td>7.58</td>\n",
              "      <td>Masculino</td>\n",
              "      <td>nao</td>\n",
              "      <td>sab</td>\n",
              "      <td>jantar</td>\n",
              "      <td>4</td>\n",
              "      <td>42</td>\n",
              "    </tr>\n",
              "    <tr>\n",
              "      <th>24</th>\n",
              "      <td>19.82</td>\n",
              "      <td>3.18</td>\n",
              "      <td>Masculino</td>\n",
              "      <td>nao</td>\n",
              "      <td>sab</td>\n",
              "      <td>jantar</td>\n",
              "      <td>2</td>\n",
              "      <td>46</td>\n",
              "    </tr>\n",
              "    <tr>\n",
              "      <th>25</th>\n",
              "      <td>17.81</td>\n",
              "      <td>2.34</td>\n",
              "      <td>Masculino</td>\n",
              "      <td>nao</td>\n",
              "      <td>sab</td>\n",
              "      <td>jantar</td>\n",
              "      <td>4</td>\n",
              "      <td>37</td>\n",
              "    </tr>\n",
              "    <tr>\n",
              "      <th>26</th>\n",
              "      <td>13.37</td>\n",
              "      <td>2.00</td>\n",
              "      <td>Masculino</td>\n",
              "      <td>nao</td>\n",
              "      <td>sab</td>\n",
              "      <td>jantar</td>\n",
              "      <td>2</td>\n",
              "      <td>46</td>\n",
              "    </tr>\n",
              "    <tr>\n",
              "      <th>27</th>\n",
              "      <td>12.69</td>\n",
              "      <td>2.00</td>\n",
              "      <td>Masculino</td>\n",
              "      <td>nao</td>\n",
              "      <td>sab</td>\n",
              "      <td>jantar</td>\n",
              "      <td>2</td>\n",
              "      <td>41</td>\n",
              "    </tr>\n",
              "    <tr>\n",
              "      <th>28</th>\n",
              "      <td>21.70</td>\n",
              "      <td>4.30</td>\n",
              "      <td>Masculino</td>\n",
              "      <td>nao</td>\n",
              "      <td>sab</td>\n",
              "      <td>jantar</td>\n",
              "      <td>2</td>\n",
              "      <td>35</td>\n",
              "    </tr>\n",
              "    <tr>\n",
              "      <th>29</th>\n",
              "      <td>19.65</td>\n",
              "      <td>3.00</td>\n",
              "      <td>Feminino</td>\n",
              "      <td>nao</td>\n",
              "      <td>sab</td>\n",
              "      <td>jantar</td>\n",
              "      <td>2</td>\n",
              "      <td>37</td>\n",
              "    </tr>\n",
              "    <tr>\n",
              "      <th>...</th>\n",
              "      <td>...</td>\n",
              "      <td>...</td>\n",
              "      <td>...</td>\n",
              "      <td>...</td>\n",
              "      <td>...</td>\n",
              "      <td>...</td>\n",
              "      <td>...</td>\n",
              "      <td>...</td>\n",
              "    </tr>\n",
              "    <tr>\n",
              "      <th>214</th>\n",
              "      <td>28.17</td>\n",
              "      <td>6.50</td>\n",
              "      <td>Feminino</td>\n",
              "      <td>sim</td>\n",
              "      <td>sab</td>\n",
              "      <td>jantar</td>\n",
              "      <td>3</td>\n",
              "      <td>38</td>\n",
              "    </tr>\n",
              "    <tr>\n",
              "      <th>215</th>\n",
              "      <td>12.90</td>\n",
              "      <td>1.10</td>\n",
              "      <td>Feminino</td>\n",
              "      <td>sim</td>\n",
              "      <td>sab</td>\n",
              "      <td>jantar</td>\n",
              "      <td>2</td>\n",
              "      <td>38</td>\n",
              "    </tr>\n",
              "    <tr>\n",
              "      <th>216</th>\n",
              "      <td>28.15</td>\n",
              "      <td>3.00</td>\n",
              "      <td>Masculino</td>\n",
              "      <td>sim</td>\n",
              "      <td>sab</td>\n",
              "      <td>jantar</td>\n",
              "      <td>5</td>\n",
              "      <td>49</td>\n",
              "    </tr>\n",
              "    <tr>\n",
              "      <th>217</th>\n",
              "      <td>11.59</td>\n",
              "      <td>1.50</td>\n",
              "      <td>Masculino</td>\n",
              "      <td>sim</td>\n",
              "      <td>sab</td>\n",
              "      <td>jantar</td>\n",
              "      <td>2</td>\n",
              "      <td>42</td>\n",
              "    </tr>\n",
              "    <tr>\n",
              "      <th>218</th>\n",
              "      <td>7.74</td>\n",
              "      <td>1.44</td>\n",
              "      <td>Masculino</td>\n",
              "      <td>sim</td>\n",
              "      <td>sab</td>\n",
              "      <td>jantar</td>\n",
              "      <td>2</td>\n",
              "      <td>39</td>\n",
              "    </tr>\n",
              "    <tr>\n",
              "      <th>219</th>\n",
              "      <td>30.14</td>\n",
              "      <td>3.09</td>\n",
              "      <td>Feminino</td>\n",
              "      <td>sim</td>\n",
              "      <td>sab</td>\n",
              "      <td>jantar</td>\n",
              "      <td>4</td>\n",
              "      <td>41</td>\n",
              "    </tr>\n",
              "    <tr>\n",
              "      <th>220</th>\n",
              "      <td>12.16</td>\n",
              "      <td>2.20</td>\n",
              "      <td>Masculino</td>\n",
              "      <td>sim</td>\n",
              "      <td>sex</td>\n",
              "      <td>almoco</td>\n",
              "      <td>2</td>\n",
              "      <td>49</td>\n",
              "    </tr>\n",
              "    <tr>\n",
              "      <th>221</th>\n",
              "      <td>13.42</td>\n",
              "      <td>3.48</td>\n",
              "      <td>Feminino</td>\n",
              "      <td>sim</td>\n",
              "      <td>sex</td>\n",
              "      <td>almoco</td>\n",
              "      <td>2</td>\n",
              "      <td>41</td>\n",
              "    </tr>\n",
              "    <tr>\n",
              "      <th>222</th>\n",
              "      <td>8.58</td>\n",
              "      <td>1.92</td>\n",
              "      <td>Masculino</td>\n",
              "      <td>sim</td>\n",
              "      <td>sex</td>\n",
              "      <td>almoco</td>\n",
              "      <td>1</td>\n",
              "      <td>36</td>\n",
              "    </tr>\n",
              "    <tr>\n",
              "      <th>223</th>\n",
              "      <td>15.98</td>\n",
              "      <td>3.00</td>\n",
              "      <td>Feminino</td>\n",
              "      <td>nao</td>\n",
              "      <td>sex</td>\n",
              "      <td>almoco</td>\n",
              "      <td>3</td>\n",
              "      <td>40</td>\n",
              "    </tr>\n",
              "    <tr>\n",
              "      <th>224</th>\n",
              "      <td>13.42</td>\n",
              "      <td>1.58</td>\n",
              "      <td>Masculino</td>\n",
              "      <td>sim</td>\n",
              "      <td>sex</td>\n",
              "      <td>almoco</td>\n",
              "      <td>2</td>\n",
              "      <td>45</td>\n",
              "    </tr>\n",
              "    <tr>\n",
              "      <th>225</th>\n",
              "      <td>16.27</td>\n",
              "      <td>2.50</td>\n",
              "      <td>Feminino</td>\n",
              "      <td>sim</td>\n",
              "      <td>sex</td>\n",
              "      <td>almoco</td>\n",
              "      <td>2</td>\n",
              "      <td>50</td>\n",
              "    </tr>\n",
              "    <tr>\n",
              "      <th>226</th>\n",
              "      <td>10.09</td>\n",
              "      <td>2.00</td>\n",
              "      <td>Feminino</td>\n",
              "      <td>sim</td>\n",
              "      <td>sex</td>\n",
              "      <td>almoco</td>\n",
              "      <td>2</td>\n",
              "      <td>51</td>\n",
              "    </tr>\n",
              "    <tr>\n",
              "      <th>227</th>\n",
              "      <td>20.45</td>\n",
              "      <td>3.00</td>\n",
              "      <td>Masculino</td>\n",
              "      <td>nao</td>\n",
              "      <td>sab</td>\n",
              "      <td>jantar</td>\n",
              "      <td>4</td>\n",
              "      <td>38</td>\n",
              "    </tr>\n",
              "    <tr>\n",
              "      <th>228</th>\n",
              "      <td>13.28</td>\n",
              "      <td>2.72</td>\n",
              "      <td>Masculino</td>\n",
              "      <td>nao</td>\n",
              "      <td>sab</td>\n",
              "      <td>jantar</td>\n",
              "      <td>2</td>\n",
              "      <td>37</td>\n",
              "    </tr>\n",
              "    <tr>\n",
              "      <th>229</th>\n",
              "      <td>22.12</td>\n",
              "      <td>2.88</td>\n",
              "      <td>Feminino</td>\n",
              "      <td>sim</td>\n",
              "      <td>sab</td>\n",
              "      <td>jantar</td>\n",
              "      <td>2</td>\n",
              "      <td>42</td>\n",
              "    </tr>\n",
              "    <tr>\n",
              "      <th>230</th>\n",
              "      <td>24.01</td>\n",
              "      <td>2.00</td>\n",
              "      <td>Masculino</td>\n",
              "      <td>sim</td>\n",
              "      <td>sab</td>\n",
              "      <td>jantar</td>\n",
              "      <td>4</td>\n",
              "      <td>45</td>\n",
              "    </tr>\n",
              "    <tr>\n",
              "      <th>231</th>\n",
              "      <td>15.69</td>\n",
              "      <td>3.00</td>\n",
              "      <td>Masculino</td>\n",
              "      <td>sim</td>\n",
              "      <td>sab</td>\n",
              "      <td>jantar</td>\n",
              "      <td>3</td>\n",
              "      <td>39</td>\n",
              "    </tr>\n",
              "    <tr>\n",
              "      <th>232</th>\n",
              "      <td>11.61</td>\n",
              "      <td>3.39</td>\n",
              "      <td>Masculino</td>\n",
              "      <td>nao</td>\n",
              "      <td>sab</td>\n",
              "      <td>jantar</td>\n",
              "      <td>2</td>\n",
              "      <td>42</td>\n",
              "    </tr>\n",
              "    <tr>\n",
              "      <th>233</th>\n",
              "      <td>10.77</td>\n",
              "      <td>1.47</td>\n",
              "      <td>Masculino</td>\n",
              "      <td>nao</td>\n",
              "      <td>sab</td>\n",
              "      <td>jantar</td>\n",
              "      <td>2</td>\n",
              "      <td>35</td>\n",
              "    </tr>\n",
              "    <tr>\n",
              "      <th>234</th>\n",
              "      <td>15.53</td>\n",
              "      <td>3.00</td>\n",
              "      <td>Masculino</td>\n",
              "      <td>sim</td>\n",
              "      <td>sab</td>\n",
              "      <td>jantar</td>\n",
              "      <td>2</td>\n",
              "      <td>52</td>\n",
              "    </tr>\n",
              "    <tr>\n",
              "      <th>235</th>\n",
              "      <td>10.07</td>\n",
              "      <td>1.25</td>\n",
              "      <td>Masculino</td>\n",
              "      <td>nao</td>\n",
              "      <td>sab</td>\n",
              "      <td>jantar</td>\n",
              "      <td>2</td>\n",
              "      <td>30</td>\n",
              "    </tr>\n",
              "    <tr>\n",
              "      <th>236</th>\n",
              "      <td>12.60</td>\n",
              "      <td>1.00</td>\n",
              "      <td>Masculino</td>\n",
              "      <td>sim</td>\n",
              "      <td>sab</td>\n",
              "      <td>jantar</td>\n",
              "      <td>2</td>\n",
              "      <td>50</td>\n",
              "    </tr>\n",
              "    <tr>\n",
              "      <th>237</th>\n",
              "      <td>32.83</td>\n",
              "      <td>1.17</td>\n",
              "      <td>Masculino</td>\n",
              "      <td>sim</td>\n",
              "      <td>sab</td>\n",
              "      <td>jantar</td>\n",
              "      <td>2</td>\n",
              "      <td>38</td>\n",
              "    </tr>\n",
              "    <tr>\n",
              "      <th>238</th>\n",
              "      <td>35.83</td>\n",
              "      <td>4.67</td>\n",
              "      <td>Feminino</td>\n",
              "      <td>nao</td>\n",
              "      <td>sab</td>\n",
              "      <td>jantar</td>\n",
              "      <td>3</td>\n",
              "      <td>42</td>\n",
              "    </tr>\n",
              "    <tr>\n",
              "      <th>239</th>\n",
              "      <td>29.03</td>\n",
              "      <td>5.92</td>\n",
              "      <td>Masculino</td>\n",
              "      <td>nao</td>\n",
              "      <td>sab</td>\n",
              "      <td>jantar</td>\n",
              "      <td>3</td>\n",
              "      <td>40</td>\n",
              "    </tr>\n",
              "    <tr>\n",
              "      <th>240</th>\n",
              "      <td>27.18</td>\n",
              "      <td>2.00</td>\n",
              "      <td>Feminino</td>\n",
              "      <td>sim</td>\n",
              "      <td>sab</td>\n",
              "      <td>jantar</td>\n",
              "      <td>2</td>\n",
              "      <td>35</td>\n",
              "    </tr>\n",
              "    <tr>\n",
              "      <th>241</th>\n",
              "      <td>22.67</td>\n",
              "      <td>2.00</td>\n",
              "      <td>Masculino</td>\n",
              "      <td>sim</td>\n",
              "      <td>sab</td>\n",
              "      <td>jantar</td>\n",
              "      <td>2</td>\n",
              "      <td>30</td>\n",
              "    </tr>\n",
              "    <tr>\n",
              "      <th>242</th>\n",
              "      <td>17.82</td>\n",
              "      <td>1.75</td>\n",
              "      <td>Masculino</td>\n",
              "      <td>nao</td>\n",
              "      <td>sab</td>\n",
              "      <td>jantar</td>\n",
              "      <td>2</td>\n",
              "      <td>38</td>\n",
              "    </tr>\n",
              "    <tr>\n",
              "      <th>243</th>\n",
              "      <td>18.78</td>\n",
              "      <td>3.00</td>\n",
              "      <td>Feminino</td>\n",
              "      <td>nao</td>\n",
              "      <td>qui</td>\n",
              "      <td>jantar</td>\n",
              "      <td>2</td>\n",
              "      <td>40</td>\n",
              "    </tr>\n",
              "  </tbody>\n",
              "</table>\n",
              "<p>244 rows × 8 columns</p>\n",
              "</div>"
            ],
            "text/plain": [
              "     total_conta  gorjeta     genero fumante  dia horario  pessoas_mesa  \\\n",
              "0          16.99     1.01   Feminino     nao  dom  jantar             2   \n",
              "1          10.34     1.66  Masculino     nao  dom  jantar             3   \n",
              "2          21.01     3.50  Masculino     nao  dom  jantar             3   \n",
              "3          23.68     3.31  Masculino     nao  dom  jantar             2   \n",
              "4          24.59     3.61   Feminino     nao  dom  jantar             4   \n",
              "5          25.29     4.71  Masculino     nao  dom  jantar             4   \n",
              "6           8.77     2.00  Masculino     nao  dom  jantar             2   \n",
              "7          26.88     3.12  Masculino     nao  dom  jantar             4   \n",
              "8          15.04     1.96  Masculino     nao  dom  jantar             2   \n",
              "9          14.78     3.23  Masculino     nao  dom  jantar             2   \n",
              "10         10.27     1.71  Masculino     nao  dom  jantar             2   \n",
              "11         35.26     5.00   Feminino     nao  dom  jantar             4   \n",
              "12         15.42     1.57  Masculino     nao  dom  jantar             2   \n",
              "13         18.43     3.00  Masculino     nao  dom  jantar             4   \n",
              "14         14.83     3.02   Feminino     nao  dom  jantar             2   \n",
              "15         21.58     3.92  Masculino     nao  dom  jantar             2   \n",
              "16         10.33     1.67   Feminino     nao  dom  jantar             3   \n",
              "17         16.29     3.71  Masculino     nao  dom  jantar             3   \n",
              "18         16.97     3.50   Feminino     nao  dom  jantar             3   \n",
              "19         20.65     3.35  Masculino     nao  sab  jantar             3   \n",
              "20         17.92     4.08  Masculino     nao  sab  jantar             2   \n",
              "21         20.29     2.75   Feminino     nao  sab  jantar             2   \n",
              "22         15.77     2.23   Feminino     nao  sab  jantar             2   \n",
              "23         39.42     7.58  Masculino     nao  sab  jantar             4   \n",
              "24         19.82     3.18  Masculino     nao  sab  jantar             2   \n",
              "25         17.81     2.34  Masculino     nao  sab  jantar             4   \n",
              "26         13.37     2.00  Masculino     nao  sab  jantar             2   \n",
              "27         12.69     2.00  Masculino     nao  sab  jantar             2   \n",
              "28         21.70     4.30  Masculino     nao  sab  jantar             2   \n",
              "29         19.65     3.00   Feminino     nao  sab  jantar             2   \n",
              "..           ...      ...        ...     ...  ...     ...           ...   \n",
              "214        28.17     6.50   Feminino     sim  sab  jantar             3   \n",
              "215        12.90     1.10   Feminino     sim  sab  jantar             2   \n",
              "216        28.15     3.00  Masculino     sim  sab  jantar             5   \n",
              "217        11.59     1.50  Masculino     sim  sab  jantar             2   \n",
              "218         7.74     1.44  Masculino     sim  sab  jantar             2   \n",
              "219        30.14     3.09   Feminino     sim  sab  jantar             4   \n",
              "220        12.16     2.20  Masculino     sim  sex  almoco             2   \n",
              "221        13.42     3.48   Feminino     sim  sex  almoco             2   \n",
              "222         8.58     1.92  Masculino     sim  sex  almoco             1   \n",
              "223        15.98     3.00   Feminino     nao  sex  almoco             3   \n",
              "224        13.42     1.58  Masculino     sim  sex  almoco             2   \n",
              "225        16.27     2.50   Feminino     sim  sex  almoco             2   \n",
              "226        10.09     2.00   Feminino     sim  sex  almoco             2   \n",
              "227        20.45     3.00  Masculino     nao  sab  jantar             4   \n",
              "228        13.28     2.72  Masculino     nao  sab  jantar             2   \n",
              "229        22.12     2.88   Feminino     sim  sab  jantar             2   \n",
              "230        24.01     2.00  Masculino     sim  sab  jantar             4   \n",
              "231        15.69     3.00  Masculino     sim  sab  jantar             3   \n",
              "232        11.61     3.39  Masculino     nao  sab  jantar             2   \n",
              "233        10.77     1.47  Masculino     nao  sab  jantar             2   \n",
              "234        15.53     3.00  Masculino     sim  sab  jantar             2   \n",
              "235        10.07     1.25  Masculino     nao  sab  jantar             2   \n",
              "236        12.60     1.00  Masculino     sim  sab  jantar             2   \n",
              "237        32.83     1.17  Masculino     sim  sab  jantar             2   \n",
              "238        35.83     4.67   Feminino     nao  sab  jantar             3   \n",
              "239        29.03     5.92  Masculino     nao  sab  jantar             3   \n",
              "240        27.18     2.00   Feminino     sim  sab  jantar             2   \n",
              "241        22.67     2.00  Masculino     sim  sab  jantar             2   \n",
              "242        17.82     1.75  Masculino     nao  sab  jantar             2   \n",
              "243        18.78     3.00   Feminino     nao  qui  jantar             2   \n",
              "\n",
              "     tempo_permanencia  \n",
              "0                   41  \n",
              "1                   40  \n",
              "2                   49  \n",
              "3                   43  \n",
              "4                   34  \n",
              "5                   39  \n",
              "6                   41  \n",
              "7                   31  \n",
              "8                   35  \n",
              "9                   41  \n",
              "10                  40  \n",
              "11                  38  \n",
              "12                  34  \n",
              "13                  36  \n",
              "14                  42  \n",
              "15                  39  \n",
              "16                  35  \n",
              "17                  40  \n",
              "18                  48  \n",
              "19                  40  \n",
              "20                  43  \n",
              "21                  44  \n",
              "22                  50  \n",
              "23                  42  \n",
              "24                  46  \n",
              "25                  37  \n",
              "26                  46  \n",
              "27                  41  \n",
              "28                  35  \n",
              "29                  37  \n",
              "..                 ...  \n",
              "214                 38  \n",
              "215                 38  \n",
              "216                 49  \n",
              "217                 42  \n",
              "218                 39  \n",
              "219                 41  \n",
              "220                 49  \n",
              "221                 41  \n",
              "222                 36  \n",
              "223                 40  \n",
              "224                 45  \n",
              "225                 50  \n",
              "226                 51  \n",
              "227                 38  \n",
              "228                 37  \n",
              "229                 42  \n",
              "230                 45  \n",
              "231                 39  \n",
              "232                 42  \n",
              "233                 35  \n",
              "234                 52  \n",
              "235                 30  \n",
              "236                 50  \n",
              "237                 38  \n",
              "238                 42  \n",
              "239                 40  \n",
              "240                 35  \n",
              "241                 30  \n",
              "242                 38  \n",
              "243                 40  \n",
              "\n",
              "[244 rows x 8 columns]"
            ]
          },
          "metadata": {
            "tags": []
          },
          "execution_count": 3
        }
      ]
    },
    {
      "metadata": {
        "id": "Lf8WK4847E3b",
        "colab_type": "code",
        "colab": {
          "base_uri": "https://localhost:8080/",
          "height": 266
        },
        "outputId": "55fa3c0c-e27b-4539-bec2-c8f178158d27"
      },
      "cell_type": "code",
      "source": [
        "tips_data.head(7)"
      ],
      "execution_count": 5,
      "outputs": [
        {
          "output_type": "execute_result",
          "data": {
            "text/html": [
              "<div>\n",
              "<style scoped>\n",
              "    .dataframe tbody tr th:only-of-type {\n",
              "        vertical-align: middle;\n",
              "    }\n",
              "\n",
              "    .dataframe tbody tr th {\n",
              "        vertical-align: top;\n",
              "    }\n",
              "\n",
              "    .dataframe thead th {\n",
              "        text-align: right;\n",
              "    }\n",
              "</style>\n",
              "<table border=\"1\" class=\"dataframe\">\n",
              "  <thead>\n",
              "    <tr style=\"text-align: right;\">\n",
              "      <th></th>\n",
              "      <th>total_conta</th>\n",
              "      <th>gorjeta</th>\n",
              "      <th>genero</th>\n",
              "      <th>fumante</th>\n",
              "      <th>dia</th>\n",
              "      <th>horario</th>\n",
              "      <th>pessoas_mesa</th>\n",
              "      <th>tempo_permanencia</th>\n",
              "    </tr>\n",
              "  </thead>\n",
              "  <tbody>\n",
              "    <tr>\n",
              "      <th>0</th>\n",
              "      <td>16.99</td>\n",
              "      <td>1.01</td>\n",
              "      <td>Feminino</td>\n",
              "      <td>nao</td>\n",
              "      <td>dom</td>\n",
              "      <td>jantar</td>\n",
              "      <td>2</td>\n",
              "      <td>41</td>\n",
              "    </tr>\n",
              "    <tr>\n",
              "      <th>1</th>\n",
              "      <td>10.34</td>\n",
              "      <td>1.66</td>\n",
              "      <td>Masculino</td>\n",
              "      <td>nao</td>\n",
              "      <td>dom</td>\n",
              "      <td>jantar</td>\n",
              "      <td>3</td>\n",
              "      <td>40</td>\n",
              "    </tr>\n",
              "    <tr>\n",
              "      <th>2</th>\n",
              "      <td>21.01</td>\n",
              "      <td>3.50</td>\n",
              "      <td>Masculino</td>\n",
              "      <td>nao</td>\n",
              "      <td>dom</td>\n",
              "      <td>jantar</td>\n",
              "      <td>3</td>\n",
              "      <td>49</td>\n",
              "    </tr>\n",
              "    <tr>\n",
              "      <th>3</th>\n",
              "      <td>23.68</td>\n",
              "      <td>3.31</td>\n",
              "      <td>Masculino</td>\n",
              "      <td>nao</td>\n",
              "      <td>dom</td>\n",
              "      <td>jantar</td>\n",
              "      <td>2</td>\n",
              "      <td>43</td>\n",
              "    </tr>\n",
              "    <tr>\n",
              "      <th>4</th>\n",
              "      <td>24.59</td>\n",
              "      <td>3.61</td>\n",
              "      <td>Feminino</td>\n",
              "      <td>nao</td>\n",
              "      <td>dom</td>\n",
              "      <td>jantar</td>\n",
              "      <td>4</td>\n",
              "      <td>34</td>\n",
              "    </tr>\n",
              "    <tr>\n",
              "      <th>5</th>\n",
              "      <td>25.29</td>\n",
              "      <td>4.71</td>\n",
              "      <td>Masculino</td>\n",
              "      <td>nao</td>\n",
              "      <td>dom</td>\n",
              "      <td>jantar</td>\n",
              "      <td>4</td>\n",
              "      <td>39</td>\n",
              "    </tr>\n",
              "    <tr>\n",
              "      <th>6</th>\n",
              "      <td>8.77</td>\n",
              "      <td>2.00</td>\n",
              "      <td>Masculino</td>\n",
              "      <td>nao</td>\n",
              "      <td>dom</td>\n",
              "      <td>jantar</td>\n",
              "      <td>2</td>\n",
              "      <td>41</td>\n",
              "    </tr>\n",
              "  </tbody>\n",
              "</table>\n",
              "</div>"
            ],
            "text/plain": [
              "   total_conta  gorjeta     genero fumante  dia horario  pessoas_mesa  \\\n",
              "0        16.99     1.01   Feminino     nao  dom  jantar             2   \n",
              "1        10.34     1.66  Masculino     nao  dom  jantar             3   \n",
              "2        21.01     3.50  Masculino     nao  dom  jantar             3   \n",
              "3        23.68     3.31  Masculino     nao  dom  jantar             2   \n",
              "4        24.59     3.61   Feminino     nao  dom  jantar             4   \n",
              "5        25.29     4.71  Masculino     nao  dom  jantar             4   \n",
              "6         8.77     2.00  Masculino     nao  dom  jantar             2   \n",
              "\n",
              "   tempo_permanencia  \n",
              "0                 41  \n",
              "1                 40  \n",
              "2                 49  \n",
              "3                 43  \n",
              "4                 34  \n",
              "5                 39  \n",
              "6                 41  "
            ]
          },
          "metadata": {
            "tags": []
          },
          "execution_count": 5
        }
      ]
    },
    {
      "metadata": {
        "id": "ksJtJdWJ7e0w",
        "colab_type": "code",
        "colab": {
          "base_uri": "https://localhost:8080/",
          "height": 328
        },
        "outputId": "71fd9950-bacd-4581-8044-92ec511237e7"
      },
      "cell_type": "code",
      "source": [
        "tips_data.tail(9)"
      ],
      "execution_count": 6,
      "outputs": [
        {
          "output_type": "execute_result",
          "data": {
            "text/html": [
              "<div>\n",
              "<style scoped>\n",
              "    .dataframe tbody tr th:only-of-type {\n",
              "        vertical-align: middle;\n",
              "    }\n",
              "\n",
              "    .dataframe tbody tr th {\n",
              "        vertical-align: top;\n",
              "    }\n",
              "\n",
              "    .dataframe thead th {\n",
              "        text-align: right;\n",
              "    }\n",
              "</style>\n",
              "<table border=\"1\" class=\"dataframe\">\n",
              "  <thead>\n",
              "    <tr style=\"text-align: right;\">\n",
              "      <th></th>\n",
              "      <th>total_conta</th>\n",
              "      <th>gorjeta</th>\n",
              "      <th>genero</th>\n",
              "      <th>fumante</th>\n",
              "      <th>dia</th>\n",
              "      <th>horario</th>\n",
              "      <th>pessoas_mesa</th>\n",
              "      <th>tempo_permanencia</th>\n",
              "    </tr>\n",
              "  </thead>\n",
              "  <tbody>\n",
              "    <tr>\n",
              "      <th>235</th>\n",
              "      <td>10.07</td>\n",
              "      <td>1.25</td>\n",
              "      <td>Masculino</td>\n",
              "      <td>nao</td>\n",
              "      <td>sab</td>\n",
              "      <td>jantar</td>\n",
              "      <td>2</td>\n",
              "      <td>30</td>\n",
              "    </tr>\n",
              "    <tr>\n",
              "      <th>236</th>\n",
              "      <td>12.60</td>\n",
              "      <td>1.00</td>\n",
              "      <td>Masculino</td>\n",
              "      <td>sim</td>\n",
              "      <td>sab</td>\n",
              "      <td>jantar</td>\n",
              "      <td>2</td>\n",
              "      <td>50</td>\n",
              "    </tr>\n",
              "    <tr>\n",
              "      <th>237</th>\n",
              "      <td>32.83</td>\n",
              "      <td>1.17</td>\n",
              "      <td>Masculino</td>\n",
              "      <td>sim</td>\n",
              "      <td>sab</td>\n",
              "      <td>jantar</td>\n",
              "      <td>2</td>\n",
              "      <td>38</td>\n",
              "    </tr>\n",
              "    <tr>\n",
              "      <th>238</th>\n",
              "      <td>35.83</td>\n",
              "      <td>4.67</td>\n",
              "      <td>Feminino</td>\n",
              "      <td>nao</td>\n",
              "      <td>sab</td>\n",
              "      <td>jantar</td>\n",
              "      <td>3</td>\n",
              "      <td>42</td>\n",
              "    </tr>\n",
              "    <tr>\n",
              "      <th>239</th>\n",
              "      <td>29.03</td>\n",
              "      <td>5.92</td>\n",
              "      <td>Masculino</td>\n",
              "      <td>nao</td>\n",
              "      <td>sab</td>\n",
              "      <td>jantar</td>\n",
              "      <td>3</td>\n",
              "      <td>40</td>\n",
              "    </tr>\n",
              "    <tr>\n",
              "      <th>240</th>\n",
              "      <td>27.18</td>\n",
              "      <td>2.00</td>\n",
              "      <td>Feminino</td>\n",
              "      <td>sim</td>\n",
              "      <td>sab</td>\n",
              "      <td>jantar</td>\n",
              "      <td>2</td>\n",
              "      <td>35</td>\n",
              "    </tr>\n",
              "    <tr>\n",
              "      <th>241</th>\n",
              "      <td>22.67</td>\n",
              "      <td>2.00</td>\n",
              "      <td>Masculino</td>\n",
              "      <td>sim</td>\n",
              "      <td>sab</td>\n",
              "      <td>jantar</td>\n",
              "      <td>2</td>\n",
              "      <td>30</td>\n",
              "    </tr>\n",
              "    <tr>\n",
              "      <th>242</th>\n",
              "      <td>17.82</td>\n",
              "      <td>1.75</td>\n",
              "      <td>Masculino</td>\n",
              "      <td>nao</td>\n",
              "      <td>sab</td>\n",
              "      <td>jantar</td>\n",
              "      <td>2</td>\n",
              "      <td>38</td>\n",
              "    </tr>\n",
              "    <tr>\n",
              "      <th>243</th>\n",
              "      <td>18.78</td>\n",
              "      <td>3.00</td>\n",
              "      <td>Feminino</td>\n",
              "      <td>nao</td>\n",
              "      <td>qui</td>\n",
              "      <td>jantar</td>\n",
              "      <td>2</td>\n",
              "      <td>40</td>\n",
              "    </tr>\n",
              "  </tbody>\n",
              "</table>\n",
              "</div>"
            ],
            "text/plain": [
              "     total_conta  gorjeta     genero fumante  dia horario  pessoas_mesa  \\\n",
              "235        10.07     1.25  Masculino     nao  sab  jantar             2   \n",
              "236        12.60     1.00  Masculino     sim  sab  jantar             2   \n",
              "237        32.83     1.17  Masculino     sim  sab  jantar             2   \n",
              "238        35.83     4.67   Feminino     nao  sab  jantar             3   \n",
              "239        29.03     5.92  Masculino     nao  sab  jantar             3   \n",
              "240        27.18     2.00   Feminino     sim  sab  jantar             2   \n",
              "241        22.67     2.00  Masculino     sim  sab  jantar             2   \n",
              "242        17.82     1.75  Masculino     nao  sab  jantar             2   \n",
              "243        18.78     3.00   Feminino     nao  qui  jantar             2   \n",
              "\n",
              "     tempo_permanencia  \n",
              "235                 30  \n",
              "236                 50  \n",
              "237                 38  \n",
              "238                 42  \n",
              "239                 40  \n",
              "240                 35  \n",
              "241                 30  \n",
              "242                 38  \n",
              "243                 40  "
            ]
          },
          "metadata": {
            "tags": []
          },
          "execution_count": 6
        }
      ]
    },
    {
      "metadata": {
        "id": "_eGaIPUw7yfp",
        "colab_type": "code",
        "colab": {
          "base_uri": "https://localhost:8080/",
          "height": 34
        },
        "outputId": "fc4740cf-93e1-410e-c418-818783a68d6c"
      },
      "cell_type": "code",
      "source": [
        "tips_data.shape"
      ],
      "execution_count": 7,
      "outputs": [
        {
          "output_type": "execute_result",
          "data": {
            "text/plain": [
              "(244, 8)"
            ]
          },
          "metadata": {
            "tags": []
          },
          "execution_count": 7
        }
      ]
    },
    {
      "metadata": {
        "id": "sk99bIpI8Bzx",
        "colab_type": "code",
        "colab": {
          "base_uri": "https://localhost:8080/",
          "height": 68
        },
        "outputId": "270c0d6b-f8ac-4659-e9fd-2b9d87af82e7"
      },
      "cell_type": "code",
      "source": [
        "tips_data.columns"
      ],
      "execution_count": 8,
      "outputs": [
        {
          "output_type": "execute_result",
          "data": {
            "text/plain": [
              "Index(['total_conta', 'gorjeta', 'genero', 'fumante', 'dia', 'horario',\n",
              "       'pessoas_mesa', 'tempo_permanencia'],\n",
              "      dtype='object')"
            ]
          },
          "metadata": {
            "tags": []
          },
          "execution_count": 8
        }
      ]
    },
    {
      "metadata": {
        "id": "OmDvsA9y8QQR",
        "colab_type": "code",
        "colab": {
          "base_uri": "https://localhost:8080/",
          "height": 238
        },
        "outputId": "6dcb15c8-edc3-4bf8-d8cf-b99f413a0422"
      },
      "cell_type": "code",
      "source": [
        "tips_data.info()"
      ],
      "execution_count": 9,
      "outputs": [
        {
          "output_type": "stream",
          "text": [
            "<class 'pandas.core.frame.DataFrame'>\n",
            "RangeIndex: 244 entries, 0 to 243\n",
            "Data columns (total 8 columns):\n",
            "total_conta          244 non-null float64\n",
            "gorjeta              244 non-null float64\n",
            "genero               244 non-null object\n",
            "fumante              244 non-null object\n",
            "dia                  244 non-null object\n",
            "horario              244 non-null object\n",
            "pessoas_mesa         244 non-null int64\n",
            "tempo_permanencia    244 non-null int64\n",
            "dtypes: float64(2), int64(2), object(4)\n",
            "memory usage: 15.3+ KB\n"
          ],
          "name": "stdout"
        }
      ]
    },
    {
      "metadata": {
        "id": "wdbYnU4W8zVV",
        "colab_type": "code",
        "colab": {
          "base_uri": "https://localhost:8080/",
          "height": 1071
        },
        "outputId": "663200b4-974a-40f2-b54c-89f8b3e77bbb"
      },
      "cell_type": "code",
      "source": [
        "tips_data['gorjeta']"
      ],
      "execution_count": 10,
      "outputs": [
        {
          "output_type": "execute_result",
          "data": {
            "text/plain": [
              "0      1.01\n",
              "1      1.66\n",
              "2      3.50\n",
              "3      3.31\n",
              "4      3.61\n",
              "5      4.71\n",
              "6      2.00\n",
              "7      3.12\n",
              "8      1.96\n",
              "9      3.23\n",
              "10     1.71\n",
              "11     5.00\n",
              "12     1.57\n",
              "13     3.00\n",
              "14     3.02\n",
              "15     3.92\n",
              "16     1.67\n",
              "17     3.71\n",
              "18     3.50\n",
              "19     3.35\n",
              "20     4.08\n",
              "21     2.75\n",
              "22     2.23\n",
              "23     7.58\n",
              "24     3.18\n",
              "25     2.34\n",
              "26     2.00\n",
              "27     2.00\n",
              "28     4.30\n",
              "29     3.00\n",
              "       ... \n",
              "214    6.50\n",
              "215    1.10\n",
              "216    3.00\n",
              "217    1.50\n",
              "218    1.44\n",
              "219    3.09\n",
              "220    2.20\n",
              "221    3.48\n",
              "222    1.92\n",
              "223    3.00\n",
              "224    1.58\n",
              "225    2.50\n",
              "226    2.00\n",
              "227    3.00\n",
              "228    2.72\n",
              "229    2.88\n",
              "230    2.00\n",
              "231    3.00\n",
              "232    3.39\n",
              "233    1.47\n",
              "234    3.00\n",
              "235    1.25\n",
              "236    1.00\n",
              "237    1.17\n",
              "238    4.67\n",
              "239    5.92\n",
              "240    2.00\n",
              "241    2.00\n",
              "242    1.75\n",
              "243    3.00\n",
              "Name: gorjeta, Length: 244, dtype: float64"
            ]
          },
          "metadata": {
            "tags": []
          },
          "execution_count": 10
        }
      ]
    },
    {
      "metadata": {
        "id": "uYs0vNih9DmP",
        "colab_type": "code",
        "colab": {
          "base_uri": "https://localhost:8080/",
          "height": 1071
        },
        "outputId": "641b2dd5-8284-4e5e-944e-e4db85810124"
      },
      "cell_type": "code",
      "source": [
        "tips_data['genero']"
      ],
      "execution_count": 11,
      "outputs": [
        {
          "output_type": "execute_result",
          "data": {
            "text/plain": [
              "0       Feminino\n",
              "1      Masculino\n",
              "2      Masculino\n",
              "3      Masculino\n",
              "4       Feminino\n",
              "5      Masculino\n",
              "6      Masculino\n",
              "7      Masculino\n",
              "8      Masculino\n",
              "9      Masculino\n",
              "10     Masculino\n",
              "11      Feminino\n",
              "12     Masculino\n",
              "13     Masculino\n",
              "14      Feminino\n",
              "15     Masculino\n",
              "16      Feminino\n",
              "17     Masculino\n",
              "18      Feminino\n",
              "19     Masculino\n",
              "20     Masculino\n",
              "21      Feminino\n",
              "22      Feminino\n",
              "23     Masculino\n",
              "24     Masculino\n",
              "25     Masculino\n",
              "26     Masculino\n",
              "27     Masculino\n",
              "28     Masculino\n",
              "29      Feminino\n",
              "         ...    \n",
              "214     Feminino\n",
              "215     Feminino\n",
              "216    Masculino\n",
              "217    Masculino\n",
              "218    Masculino\n",
              "219     Feminino\n",
              "220    Masculino\n",
              "221     Feminino\n",
              "222    Masculino\n",
              "223     Feminino\n",
              "224    Masculino\n",
              "225     Feminino\n",
              "226     Feminino\n",
              "227    Masculino\n",
              "228    Masculino\n",
              "229     Feminino\n",
              "230    Masculino\n",
              "231    Masculino\n",
              "232    Masculino\n",
              "233    Masculino\n",
              "234    Masculino\n",
              "235    Masculino\n",
              "236    Masculino\n",
              "237    Masculino\n",
              "238     Feminino\n",
              "239    Masculino\n",
              "240     Feminino\n",
              "241    Masculino\n",
              "242    Masculino\n",
              "243     Feminino\n",
              "Name: genero, Length: 244, dtype: object"
            ]
          },
          "metadata": {
            "tags": []
          },
          "execution_count": 11
        }
      ]
    },
    {
      "metadata": {
        "id": "d7fV_5bD9R6z",
        "colab_type": "code",
        "colab": {
          "base_uri": "https://localhost:8080/",
          "height": 1969
        },
        "outputId": "d1efe2b1-0dde-4ff6-e314-f2a1ff44d61d"
      },
      "cell_type": "code",
      "source": [
        "tips_data[['gorjeta','genero']]"
      ],
      "execution_count": 14,
      "outputs": [
        {
          "output_type": "execute_result",
          "data": {
            "text/html": [
              "<div>\n",
              "<style scoped>\n",
              "    .dataframe tbody tr th:only-of-type {\n",
              "        vertical-align: middle;\n",
              "    }\n",
              "\n",
              "    .dataframe tbody tr th {\n",
              "        vertical-align: top;\n",
              "    }\n",
              "\n",
              "    .dataframe thead th {\n",
              "        text-align: right;\n",
              "    }\n",
              "</style>\n",
              "<table border=\"1\" class=\"dataframe\">\n",
              "  <thead>\n",
              "    <tr style=\"text-align: right;\">\n",
              "      <th></th>\n",
              "      <th>gorjeta</th>\n",
              "      <th>genero</th>\n",
              "    </tr>\n",
              "  </thead>\n",
              "  <tbody>\n",
              "    <tr>\n",
              "      <th>0</th>\n",
              "      <td>1.01</td>\n",
              "      <td>Feminino</td>\n",
              "    </tr>\n",
              "    <tr>\n",
              "      <th>1</th>\n",
              "      <td>1.66</td>\n",
              "      <td>Masculino</td>\n",
              "    </tr>\n",
              "    <tr>\n",
              "      <th>2</th>\n",
              "      <td>3.50</td>\n",
              "      <td>Masculino</td>\n",
              "    </tr>\n",
              "    <tr>\n",
              "      <th>3</th>\n",
              "      <td>3.31</td>\n",
              "      <td>Masculino</td>\n",
              "    </tr>\n",
              "    <tr>\n",
              "      <th>4</th>\n",
              "      <td>3.61</td>\n",
              "      <td>Feminino</td>\n",
              "    </tr>\n",
              "    <tr>\n",
              "      <th>5</th>\n",
              "      <td>4.71</td>\n",
              "      <td>Masculino</td>\n",
              "    </tr>\n",
              "    <tr>\n",
              "      <th>6</th>\n",
              "      <td>2.00</td>\n",
              "      <td>Masculino</td>\n",
              "    </tr>\n",
              "    <tr>\n",
              "      <th>7</th>\n",
              "      <td>3.12</td>\n",
              "      <td>Masculino</td>\n",
              "    </tr>\n",
              "    <tr>\n",
              "      <th>8</th>\n",
              "      <td>1.96</td>\n",
              "      <td>Masculino</td>\n",
              "    </tr>\n",
              "    <tr>\n",
              "      <th>9</th>\n",
              "      <td>3.23</td>\n",
              "      <td>Masculino</td>\n",
              "    </tr>\n",
              "    <tr>\n",
              "      <th>10</th>\n",
              "      <td>1.71</td>\n",
              "      <td>Masculino</td>\n",
              "    </tr>\n",
              "    <tr>\n",
              "      <th>11</th>\n",
              "      <td>5.00</td>\n",
              "      <td>Feminino</td>\n",
              "    </tr>\n",
              "    <tr>\n",
              "      <th>12</th>\n",
              "      <td>1.57</td>\n",
              "      <td>Masculino</td>\n",
              "    </tr>\n",
              "    <tr>\n",
              "      <th>13</th>\n",
              "      <td>3.00</td>\n",
              "      <td>Masculino</td>\n",
              "    </tr>\n",
              "    <tr>\n",
              "      <th>14</th>\n",
              "      <td>3.02</td>\n",
              "      <td>Feminino</td>\n",
              "    </tr>\n",
              "    <tr>\n",
              "      <th>15</th>\n",
              "      <td>3.92</td>\n",
              "      <td>Masculino</td>\n",
              "    </tr>\n",
              "    <tr>\n",
              "      <th>16</th>\n",
              "      <td>1.67</td>\n",
              "      <td>Feminino</td>\n",
              "    </tr>\n",
              "    <tr>\n",
              "      <th>17</th>\n",
              "      <td>3.71</td>\n",
              "      <td>Masculino</td>\n",
              "    </tr>\n",
              "    <tr>\n",
              "      <th>18</th>\n",
              "      <td>3.50</td>\n",
              "      <td>Feminino</td>\n",
              "    </tr>\n",
              "    <tr>\n",
              "      <th>19</th>\n",
              "      <td>3.35</td>\n",
              "      <td>Masculino</td>\n",
              "    </tr>\n",
              "    <tr>\n",
              "      <th>20</th>\n",
              "      <td>4.08</td>\n",
              "      <td>Masculino</td>\n",
              "    </tr>\n",
              "    <tr>\n",
              "      <th>21</th>\n",
              "      <td>2.75</td>\n",
              "      <td>Feminino</td>\n",
              "    </tr>\n",
              "    <tr>\n",
              "      <th>22</th>\n",
              "      <td>2.23</td>\n",
              "      <td>Feminino</td>\n",
              "    </tr>\n",
              "    <tr>\n",
              "      <th>23</th>\n",
              "      <td>7.58</td>\n",
              "      <td>Masculino</td>\n",
              "    </tr>\n",
              "    <tr>\n",
              "      <th>24</th>\n",
              "      <td>3.18</td>\n",
              "      <td>Masculino</td>\n",
              "    </tr>\n",
              "    <tr>\n",
              "      <th>25</th>\n",
              "      <td>2.34</td>\n",
              "      <td>Masculino</td>\n",
              "    </tr>\n",
              "    <tr>\n",
              "      <th>26</th>\n",
              "      <td>2.00</td>\n",
              "      <td>Masculino</td>\n",
              "    </tr>\n",
              "    <tr>\n",
              "      <th>27</th>\n",
              "      <td>2.00</td>\n",
              "      <td>Masculino</td>\n",
              "    </tr>\n",
              "    <tr>\n",
              "      <th>28</th>\n",
              "      <td>4.30</td>\n",
              "      <td>Masculino</td>\n",
              "    </tr>\n",
              "    <tr>\n",
              "      <th>29</th>\n",
              "      <td>3.00</td>\n",
              "      <td>Feminino</td>\n",
              "    </tr>\n",
              "    <tr>\n",
              "      <th>...</th>\n",
              "      <td>...</td>\n",
              "      <td>...</td>\n",
              "    </tr>\n",
              "    <tr>\n",
              "      <th>214</th>\n",
              "      <td>6.50</td>\n",
              "      <td>Feminino</td>\n",
              "    </tr>\n",
              "    <tr>\n",
              "      <th>215</th>\n",
              "      <td>1.10</td>\n",
              "      <td>Feminino</td>\n",
              "    </tr>\n",
              "    <tr>\n",
              "      <th>216</th>\n",
              "      <td>3.00</td>\n",
              "      <td>Masculino</td>\n",
              "    </tr>\n",
              "    <tr>\n",
              "      <th>217</th>\n",
              "      <td>1.50</td>\n",
              "      <td>Masculino</td>\n",
              "    </tr>\n",
              "    <tr>\n",
              "      <th>218</th>\n",
              "      <td>1.44</td>\n",
              "      <td>Masculino</td>\n",
              "    </tr>\n",
              "    <tr>\n",
              "      <th>219</th>\n",
              "      <td>3.09</td>\n",
              "      <td>Feminino</td>\n",
              "    </tr>\n",
              "    <tr>\n",
              "      <th>220</th>\n",
              "      <td>2.20</td>\n",
              "      <td>Masculino</td>\n",
              "    </tr>\n",
              "    <tr>\n",
              "      <th>221</th>\n",
              "      <td>3.48</td>\n",
              "      <td>Feminino</td>\n",
              "    </tr>\n",
              "    <tr>\n",
              "      <th>222</th>\n",
              "      <td>1.92</td>\n",
              "      <td>Masculino</td>\n",
              "    </tr>\n",
              "    <tr>\n",
              "      <th>223</th>\n",
              "      <td>3.00</td>\n",
              "      <td>Feminino</td>\n",
              "    </tr>\n",
              "    <tr>\n",
              "      <th>224</th>\n",
              "      <td>1.58</td>\n",
              "      <td>Masculino</td>\n",
              "    </tr>\n",
              "    <tr>\n",
              "      <th>225</th>\n",
              "      <td>2.50</td>\n",
              "      <td>Feminino</td>\n",
              "    </tr>\n",
              "    <tr>\n",
              "      <th>226</th>\n",
              "      <td>2.00</td>\n",
              "      <td>Feminino</td>\n",
              "    </tr>\n",
              "    <tr>\n",
              "      <th>227</th>\n",
              "      <td>3.00</td>\n",
              "      <td>Masculino</td>\n",
              "    </tr>\n",
              "    <tr>\n",
              "      <th>228</th>\n",
              "      <td>2.72</td>\n",
              "      <td>Masculino</td>\n",
              "    </tr>\n",
              "    <tr>\n",
              "      <th>229</th>\n",
              "      <td>2.88</td>\n",
              "      <td>Feminino</td>\n",
              "    </tr>\n",
              "    <tr>\n",
              "      <th>230</th>\n",
              "      <td>2.00</td>\n",
              "      <td>Masculino</td>\n",
              "    </tr>\n",
              "    <tr>\n",
              "      <th>231</th>\n",
              "      <td>3.00</td>\n",
              "      <td>Masculino</td>\n",
              "    </tr>\n",
              "    <tr>\n",
              "      <th>232</th>\n",
              "      <td>3.39</td>\n",
              "      <td>Masculino</td>\n",
              "    </tr>\n",
              "    <tr>\n",
              "      <th>233</th>\n",
              "      <td>1.47</td>\n",
              "      <td>Masculino</td>\n",
              "    </tr>\n",
              "    <tr>\n",
              "      <th>234</th>\n",
              "      <td>3.00</td>\n",
              "      <td>Masculino</td>\n",
              "    </tr>\n",
              "    <tr>\n",
              "      <th>235</th>\n",
              "      <td>1.25</td>\n",
              "      <td>Masculino</td>\n",
              "    </tr>\n",
              "    <tr>\n",
              "      <th>236</th>\n",
              "      <td>1.00</td>\n",
              "      <td>Masculino</td>\n",
              "    </tr>\n",
              "    <tr>\n",
              "      <th>237</th>\n",
              "      <td>1.17</td>\n",
              "      <td>Masculino</td>\n",
              "    </tr>\n",
              "    <tr>\n",
              "      <th>238</th>\n",
              "      <td>4.67</td>\n",
              "      <td>Feminino</td>\n",
              "    </tr>\n",
              "    <tr>\n",
              "      <th>239</th>\n",
              "      <td>5.92</td>\n",
              "      <td>Masculino</td>\n",
              "    </tr>\n",
              "    <tr>\n",
              "      <th>240</th>\n",
              "      <td>2.00</td>\n",
              "      <td>Feminino</td>\n",
              "    </tr>\n",
              "    <tr>\n",
              "      <th>241</th>\n",
              "      <td>2.00</td>\n",
              "      <td>Masculino</td>\n",
              "    </tr>\n",
              "    <tr>\n",
              "      <th>242</th>\n",
              "      <td>1.75</td>\n",
              "      <td>Masculino</td>\n",
              "    </tr>\n",
              "    <tr>\n",
              "      <th>243</th>\n",
              "      <td>3.00</td>\n",
              "      <td>Feminino</td>\n",
              "    </tr>\n",
              "  </tbody>\n",
              "</table>\n",
              "<p>244 rows × 2 columns</p>\n",
              "</div>"
            ],
            "text/plain": [
              "     gorjeta     genero\n",
              "0       1.01   Feminino\n",
              "1       1.66  Masculino\n",
              "2       3.50  Masculino\n",
              "3       3.31  Masculino\n",
              "4       3.61   Feminino\n",
              "5       4.71  Masculino\n",
              "6       2.00  Masculino\n",
              "7       3.12  Masculino\n",
              "8       1.96  Masculino\n",
              "9       3.23  Masculino\n",
              "10      1.71  Masculino\n",
              "11      5.00   Feminino\n",
              "12      1.57  Masculino\n",
              "13      3.00  Masculino\n",
              "14      3.02   Feminino\n",
              "15      3.92  Masculino\n",
              "16      1.67   Feminino\n",
              "17      3.71  Masculino\n",
              "18      3.50   Feminino\n",
              "19      3.35  Masculino\n",
              "20      4.08  Masculino\n",
              "21      2.75   Feminino\n",
              "22      2.23   Feminino\n",
              "23      7.58  Masculino\n",
              "24      3.18  Masculino\n",
              "25      2.34  Masculino\n",
              "26      2.00  Masculino\n",
              "27      2.00  Masculino\n",
              "28      4.30  Masculino\n",
              "29      3.00   Feminino\n",
              "..       ...        ...\n",
              "214     6.50   Feminino\n",
              "215     1.10   Feminino\n",
              "216     3.00  Masculino\n",
              "217     1.50  Masculino\n",
              "218     1.44  Masculino\n",
              "219     3.09   Feminino\n",
              "220     2.20  Masculino\n",
              "221     3.48   Feminino\n",
              "222     1.92  Masculino\n",
              "223     3.00   Feminino\n",
              "224     1.58  Masculino\n",
              "225     2.50   Feminino\n",
              "226     2.00   Feminino\n",
              "227     3.00  Masculino\n",
              "228     2.72  Masculino\n",
              "229     2.88   Feminino\n",
              "230     2.00  Masculino\n",
              "231     3.00  Masculino\n",
              "232     3.39  Masculino\n",
              "233     1.47  Masculino\n",
              "234     3.00  Masculino\n",
              "235     1.25  Masculino\n",
              "236     1.00  Masculino\n",
              "237     1.17  Masculino\n",
              "238     4.67   Feminino\n",
              "239     5.92  Masculino\n",
              "240     2.00   Feminino\n",
              "241     2.00  Masculino\n",
              "242     1.75  Masculino\n",
              "243     3.00   Feminino\n",
              "\n",
              "[244 rows x 2 columns]"
            ]
          },
          "metadata": {
            "tags": []
          },
          "execution_count": 14
        }
      ]
    },
    {
      "metadata": {
        "id": "n6DdgHSA-CJX",
        "colab_type": "code",
        "colab": {
          "base_uri": "https://localhost:8080/",
          "height": 1969
        },
        "outputId": "601aa013-51ab-4f40-a765-c4c538c9cea5"
      },
      "cell_type": "code",
      "source": [
        "tips_data[tips_data['genero']=='Feminino']"
      ],
      "execution_count": 16,
      "outputs": [
        {
          "output_type": "execute_result",
          "data": {
            "text/html": [
              "<div>\n",
              "<style scoped>\n",
              "    .dataframe tbody tr th:only-of-type {\n",
              "        vertical-align: middle;\n",
              "    }\n",
              "\n",
              "    .dataframe tbody tr th {\n",
              "        vertical-align: top;\n",
              "    }\n",
              "\n",
              "    .dataframe thead th {\n",
              "        text-align: right;\n",
              "    }\n",
              "</style>\n",
              "<table border=\"1\" class=\"dataframe\">\n",
              "  <thead>\n",
              "    <tr style=\"text-align: right;\">\n",
              "      <th></th>\n",
              "      <th>total_conta</th>\n",
              "      <th>gorjeta</th>\n",
              "      <th>genero</th>\n",
              "      <th>fumante</th>\n",
              "      <th>dia</th>\n",
              "      <th>horario</th>\n",
              "      <th>pessoas_mesa</th>\n",
              "      <th>tempo_permanencia</th>\n",
              "    </tr>\n",
              "  </thead>\n",
              "  <tbody>\n",
              "    <tr>\n",
              "      <th>0</th>\n",
              "      <td>16.99</td>\n",
              "      <td>1.01</td>\n",
              "      <td>Feminino</td>\n",
              "      <td>nao</td>\n",
              "      <td>dom</td>\n",
              "      <td>jantar</td>\n",
              "      <td>2</td>\n",
              "      <td>41</td>\n",
              "    </tr>\n",
              "    <tr>\n",
              "      <th>4</th>\n",
              "      <td>24.59</td>\n",
              "      <td>3.61</td>\n",
              "      <td>Feminino</td>\n",
              "      <td>nao</td>\n",
              "      <td>dom</td>\n",
              "      <td>jantar</td>\n",
              "      <td>4</td>\n",
              "      <td>34</td>\n",
              "    </tr>\n",
              "    <tr>\n",
              "      <th>11</th>\n",
              "      <td>35.26</td>\n",
              "      <td>5.00</td>\n",
              "      <td>Feminino</td>\n",
              "      <td>nao</td>\n",
              "      <td>dom</td>\n",
              "      <td>jantar</td>\n",
              "      <td>4</td>\n",
              "      <td>38</td>\n",
              "    </tr>\n",
              "    <tr>\n",
              "      <th>14</th>\n",
              "      <td>14.83</td>\n",
              "      <td>3.02</td>\n",
              "      <td>Feminino</td>\n",
              "      <td>nao</td>\n",
              "      <td>dom</td>\n",
              "      <td>jantar</td>\n",
              "      <td>2</td>\n",
              "      <td>42</td>\n",
              "    </tr>\n",
              "    <tr>\n",
              "      <th>16</th>\n",
              "      <td>10.33</td>\n",
              "      <td>1.67</td>\n",
              "      <td>Feminino</td>\n",
              "      <td>nao</td>\n",
              "      <td>dom</td>\n",
              "      <td>jantar</td>\n",
              "      <td>3</td>\n",
              "      <td>35</td>\n",
              "    </tr>\n",
              "    <tr>\n",
              "      <th>18</th>\n",
              "      <td>16.97</td>\n",
              "      <td>3.50</td>\n",
              "      <td>Feminino</td>\n",
              "      <td>nao</td>\n",
              "      <td>dom</td>\n",
              "      <td>jantar</td>\n",
              "      <td>3</td>\n",
              "      <td>48</td>\n",
              "    </tr>\n",
              "    <tr>\n",
              "      <th>21</th>\n",
              "      <td>20.29</td>\n",
              "      <td>2.75</td>\n",
              "      <td>Feminino</td>\n",
              "      <td>nao</td>\n",
              "      <td>sab</td>\n",
              "      <td>jantar</td>\n",
              "      <td>2</td>\n",
              "      <td>44</td>\n",
              "    </tr>\n",
              "    <tr>\n",
              "      <th>22</th>\n",
              "      <td>15.77</td>\n",
              "      <td>2.23</td>\n",
              "      <td>Feminino</td>\n",
              "      <td>nao</td>\n",
              "      <td>sab</td>\n",
              "      <td>jantar</td>\n",
              "      <td>2</td>\n",
              "      <td>50</td>\n",
              "    </tr>\n",
              "    <tr>\n",
              "      <th>29</th>\n",
              "      <td>19.65</td>\n",
              "      <td>3.00</td>\n",
              "      <td>Feminino</td>\n",
              "      <td>nao</td>\n",
              "      <td>sab</td>\n",
              "      <td>jantar</td>\n",
              "      <td>2</td>\n",
              "      <td>37</td>\n",
              "    </tr>\n",
              "    <tr>\n",
              "      <th>32</th>\n",
              "      <td>15.06</td>\n",
              "      <td>3.00</td>\n",
              "      <td>Feminino</td>\n",
              "      <td>nao</td>\n",
              "      <td>sab</td>\n",
              "      <td>jantar</td>\n",
              "      <td>2</td>\n",
              "      <td>42</td>\n",
              "    </tr>\n",
              "    <tr>\n",
              "      <th>33</th>\n",
              "      <td>20.69</td>\n",
              "      <td>2.45</td>\n",
              "      <td>Feminino</td>\n",
              "      <td>nao</td>\n",
              "      <td>sab</td>\n",
              "      <td>jantar</td>\n",
              "      <td>4</td>\n",
              "      <td>42</td>\n",
              "    </tr>\n",
              "    <tr>\n",
              "      <th>37</th>\n",
              "      <td>16.93</td>\n",
              "      <td>3.07</td>\n",
              "      <td>Feminino</td>\n",
              "      <td>nao</td>\n",
              "      <td>sab</td>\n",
              "      <td>jantar</td>\n",
              "      <td>3</td>\n",
              "      <td>41</td>\n",
              "    </tr>\n",
              "    <tr>\n",
              "      <th>51</th>\n",
              "      <td>10.29</td>\n",
              "      <td>2.60</td>\n",
              "      <td>Feminino</td>\n",
              "      <td>nao</td>\n",
              "      <td>dom</td>\n",
              "      <td>jantar</td>\n",
              "      <td>2</td>\n",
              "      <td>42</td>\n",
              "    </tr>\n",
              "    <tr>\n",
              "      <th>52</th>\n",
              "      <td>34.81</td>\n",
              "      <td>5.20</td>\n",
              "      <td>Feminino</td>\n",
              "      <td>nao</td>\n",
              "      <td>dom</td>\n",
              "      <td>jantar</td>\n",
              "      <td>4</td>\n",
              "      <td>40</td>\n",
              "    </tr>\n",
              "    <tr>\n",
              "      <th>57</th>\n",
              "      <td>26.41</td>\n",
              "      <td>1.50</td>\n",
              "      <td>Feminino</td>\n",
              "      <td>nao</td>\n",
              "      <td>sab</td>\n",
              "      <td>jantar</td>\n",
              "      <td>2</td>\n",
              "      <td>34</td>\n",
              "    </tr>\n",
              "    <tr>\n",
              "      <th>66</th>\n",
              "      <td>16.45</td>\n",
              "      <td>2.47</td>\n",
              "      <td>Feminino</td>\n",
              "      <td>nao</td>\n",
              "      <td>sab</td>\n",
              "      <td>jantar</td>\n",
              "      <td>2</td>\n",
              "      <td>38</td>\n",
              "    </tr>\n",
              "    <tr>\n",
              "      <th>67</th>\n",
              "      <td>3.07</td>\n",
              "      <td>1.00</td>\n",
              "      <td>Feminino</td>\n",
              "      <td>sim</td>\n",
              "      <td>sab</td>\n",
              "      <td>jantar</td>\n",
              "      <td>1</td>\n",
              "      <td>48</td>\n",
              "    </tr>\n",
              "    <tr>\n",
              "      <th>71</th>\n",
              "      <td>17.07</td>\n",
              "      <td>3.00</td>\n",
              "      <td>Feminino</td>\n",
              "      <td>nao</td>\n",
              "      <td>sab</td>\n",
              "      <td>jantar</td>\n",
              "      <td>3</td>\n",
              "      <td>45</td>\n",
              "    </tr>\n",
              "    <tr>\n",
              "      <th>72</th>\n",
              "      <td>26.86</td>\n",
              "      <td>3.14</td>\n",
              "      <td>Feminino</td>\n",
              "      <td>sim</td>\n",
              "      <td>sab</td>\n",
              "      <td>jantar</td>\n",
              "      <td>2</td>\n",
              "      <td>43</td>\n",
              "    </tr>\n",
              "    <tr>\n",
              "      <th>73</th>\n",
              "      <td>25.28</td>\n",
              "      <td>5.00</td>\n",
              "      <td>Feminino</td>\n",
              "      <td>sim</td>\n",
              "      <td>sab</td>\n",
              "      <td>jantar</td>\n",
              "      <td>2</td>\n",
              "      <td>35</td>\n",
              "    </tr>\n",
              "    <tr>\n",
              "      <th>74</th>\n",
              "      <td>14.73</td>\n",
              "      <td>2.20</td>\n",
              "      <td>Feminino</td>\n",
              "      <td>nao</td>\n",
              "      <td>sab</td>\n",
              "      <td>jantar</td>\n",
              "      <td>2</td>\n",
              "      <td>43</td>\n",
              "    </tr>\n",
              "    <tr>\n",
              "      <th>82</th>\n",
              "      <td>10.07</td>\n",
              "      <td>1.83</td>\n",
              "      <td>Feminino</td>\n",
              "      <td>nao</td>\n",
              "      <td>qui</td>\n",
              "      <td>almoco</td>\n",
              "      <td>1</td>\n",
              "      <td>41</td>\n",
              "    </tr>\n",
              "    <tr>\n",
              "      <th>85</th>\n",
              "      <td>34.83</td>\n",
              "      <td>5.17</td>\n",
              "      <td>Feminino</td>\n",
              "      <td>nao</td>\n",
              "      <td>qui</td>\n",
              "      <td>almoco</td>\n",
              "      <td>4</td>\n",
              "      <td>41</td>\n",
              "    </tr>\n",
              "    <tr>\n",
              "      <th>92</th>\n",
              "      <td>5.75</td>\n",
              "      <td>1.00</td>\n",
              "      <td>Feminino</td>\n",
              "      <td>sim</td>\n",
              "      <td>sex</td>\n",
              "      <td>jantar</td>\n",
              "      <td>2</td>\n",
              "      <td>46</td>\n",
              "    </tr>\n",
              "    <tr>\n",
              "      <th>93</th>\n",
              "      <td>16.32</td>\n",
              "      <td>4.30</td>\n",
              "      <td>Feminino</td>\n",
              "      <td>sim</td>\n",
              "      <td>sex</td>\n",
              "      <td>jantar</td>\n",
              "      <td>2</td>\n",
              "      <td>36</td>\n",
              "    </tr>\n",
              "    <tr>\n",
              "      <th>94</th>\n",
              "      <td>22.75</td>\n",
              "      <td>3.25</td>\n",
              "      <td>Feminino</td>\n",
              "      <td>nao</td>\n",
              "      <td>sex</td>\n",
              "      <td>jantar</td>\n",
              "      <td>2</td>\n",
              "      <td>38</td>\n",
              "    </tr>\n",
              "    <tr>\n",
              "      <th>100</th>\n",
              "      <td>11.35</td>\n",
              "      <td>2.50</td>\n",
              "      <td>Feminino</td>\n",
              "      <td>sim</td>\n",
              "      <td>sex</td>\n",
              "      <td>jantar</td>\n",
              "      <td>2</td>\n",
              "      <td>46</td>\n",
              "    </tr>\n",
              "    <tr>\n",
              "      <th>101</th>\n",
              "      <td>15.38</td>\n",
              "      <td>3.00</td>\n",
              "      <td>Feminino</td>\n",
              "      <td>sim</td>\n",
              "      <td>sex</td>\n",
              "      <td>jantar</td>\n",
              "      <td>2</td>\n",
              "      <td>47</td>\n",
              "    </tr>\n",
              "    <tr>\n",
              "      <th>102</th>\n",
              "      <td>44.30</td>\n",
              "      <td>2.50</td>\n",
              "      <td>Feminino</td>\n",
              "      <td>sim</td>\n",
              "      <td>sab</td>\n",
              "      <td>jantar</td>\n",
              "      <td>3</td>\n",
              "      <td>45</td>\n",
              "    </tr>\n",
              "    <tr>\n",
              "      <th>103</th>\n",
              "      <td>22.42</td>\n",
              "      <td>3.48</td>\n",
              "      <td>Feminino</td>\n",
              "      <td>sim</td>\n",
              "      <td>sab</td>\n",
              "      <td>jantar</td>\n",
              "      <td>2</td>\n",
              "      <td>45</td>\n",
              "    </tr>\n",
              "    <tr>\n",
              "      <th>...</th>\n",
              "      <td>...</td>\n",
              "      <td>...</td>\n",
              "      <td>...</td>\n",
              "      <td>...</td>\n",
              "      <td>...</td>\n",
              "      <td>...</td>\n",
              "      <td>...</td>\n",
              "      <td>...</td>\n",
              "    </tr>\n",
              "    <tr>\n",
              "      <th>155</th>\n",
              "      <td>29.85</td>\n",
              "      <td>5.14</td>\n",
              "      <td>Feminino</td>\n",
              "      <td>nao</td>\n",
              "      <td>dom</td>\n",
              "      <td>jantar</td>\n",
              "      <td>5</td>\n",
              "      <td>38</td>\n",
              "    </tr>\n",
              "    <tr>\n",
              "      <th>157</th>\n",
              "      <td>25.00</td>\n",
              "      <td>3.75</td>\n",
              "      <td>Feminino</td>\n",
              "      <td>nao</td>\n",
              "      <td>dom</td>\n",
              "      <td>jantar</td>\n",
              "      <td>4</td>\n",
              "      <td>47</td>\n",
              "    </tr>\n",
              "    <tr>\n",
              "      <th>158</th>\n",
              "      <td>13.39</td>\n",
              "      <td>2.61</td>\n",
              "      <td>Feminino</td>\n",
              "      <td>nao</td>\n",
              "      <td>dom</td>\n",
              "      <td>jantar</td>\n",
              "      <td>2</td>\n",
              "      <td>40</td>\n",
              "    </tr>\n",
              "    <tr>\n",
              "      <th>162</th>\n",
              "      <td>16.21</td>\n",
              "      <td>2.00</td>\n",
              "      <td>Feminino</td>\n",
              "      <td>nao</td>\n",
              "      <td>dom</td>\n",
              "      <td>jantar</td>\n",
              "      <td>3</td>\n",
              "      <td>46</td>\n",
              "    </tr>\n",
              "    <tr>\n",
              "      <th>164</th>\n",
              "      <td>17.51</td>\n",
              "      <td>3.00</td>\n",
              "      <td>Feminino</td>\n",
              "      <td>sim</td>\n",
              "      <td>dom</td>\n",
              "      <td>jantar</td>\n",
              "      <td>2</td>\n",
              "      <td>39</td>\n",
              "    </tr>\n",
              "    <tr>\n",
              "      <th>168</th>\n",
              "      <td>10.59</td>\n",
              "      <td>1.61</td>\n",
              "      <td>Feminino</td>\n",
              "      <td>sim</td>\n",
              "      <td>sab</td>\n",
              "      <td>jantar</td>\n",
              "      <td>2</td>\n",
              "      <td>39</td>\n",
              "    </tr>\n",
              "    <tr>\n",
              "      <th>169</th>\n",
              "      <td>10.63</td>\n",
              "      <td>2.00</td>\n",
              "      <td>Feminino</td>\n",
              "      <td>sim</td>\n",
              "      <td>sab</td>\n",
              "      <td>jantar</td>\n",
              "      <td>2</td>\n",
              "      <td>29</td>\n",
              "    </tr>\n",
              "    <tr>\n",
              "      <th>178</th>\n",
              "      <td>9.60</td>\n",
              "      <td>4.00</td>\n",
              "      <td>Feminino</td>\n",
              "      <td>sim</td>\n",
              "      <td>dom</td>\n",
              "      <td>jantar</td>\n",
              "      <td>2</td>\n",
              "      <td>36</td>\n",
              "    </tr>\n",
              "    <tr>\n",
              "      <th>186</th>\n",
              "      <td>20.90</td>\n",
              "      <td>3.50</td>\n",
              "      <td>Feminino</td>\n",
              "      <td>sim</td>\n",
              "      <td>dom</td>\n",
              "      <td>jantar</td>\n",
              "      <td>3</td>\n",
              "      <td>34</td>\n",
              "    </tr>\n",
              "    <tr>\n",
              "      <th>188</th>\n",
              "      <td>18.15</td>\n",
              "      <td>3.50</td>\n",
              "      <td>Feminino</td>\n",
              "      <td>sim</td>\n",
              "      <td>dom</td>\n",
              "      <td>jantar</td>\n",
              "      <td>3</td>\n",
              "      <td>44</td>\n",
              "    </tr>\n",
              "    <tr>\n",
              "      <th>191</th>\n",
              "      <td>19.81</td>\n",
              "      <td>4.19</td>\n",
              "      <td>Feminino</td>\n",
              "      <td>sim</td>\n",
              "      <td>qui</td>\n",
              "      <td>almoco</td>\n",
              "      <td>2</td>\n",
              "      <td>32</td>\n",
              "    </tr>\n",
              "    <tr>\n",
              "      <th>197</th>\n",
              "      <td>43.11</td>\n",
              "      <td>5.00</td>\n",
              "      <td>Feminino</td>\n",
              "      <td>sim</td>\n",
              "      <td>qui</td>\n",
              "      <td>almoco</td>\n",
              "      <td>4</td>\n",
              "      <td>39</td>\n",
              "    </tr>\n",
              "    <tr>\n",
              "      <th>198</th>\n",
              "      <td>13.00</td>\n",
              "      <td>2.00</td>\n",
              "      <td>Feminino</td>\n",
              "      <td>sim</td>\n",
              "      <td>qui</td>\n",
              "      <td>almoco</td>\n",
              "      <td>2</td>\n",
              "      <td>40</td>\n",
              "    </tr>\n",
              "    <tr>\n",
              "      <th>201</th>\n",
              "      <td>12.74</td>\n",
              "      <td>2.01</td>\n",
              "      <td>Feminino</td>\n",
              "      <td>sim</td>\n",
              "      <td>qui</td>\n",
              "      <td>almoco</td>\n",
              "      <td>2</td>\n",
              "      <td>49</td>\n",
              "    </tr>\n",
              "    <tr>\n",
              "      <th>202</th>\n",
              "      <td>13.00</td>\n",
              "      <td>2.00</td>\n",
              "      <td>Feminino</td>\n",
              "      <td>sim</td>\n",
              "      <td>qui</td>\n",
              "      <td>almoco</td>\n",
              "      <td>2</td>\n",
              "      <td>43</td>\n",
              "    </tr>\n",
              "    <tr>\n",
              "      <th>203</th>\n",
              "      <td>16.40</td>\n",
              "      <td>2.50</td>\n",
              "      <td>Feminino</td>\n",
              "      <td>sim</td>\n",
              "      <td>qui</td>\n",
              "      <td>almoco</td>\n",
              "      <td>2</td>\n",
              "      <td>53</td>\n",
              "    </tr>\n",
              "    <tr>\n",
              "      <th>205</th>\n",
              "      <td>16.47</td>\n",
              "      <td>3.23</td>\n",
              "      <td>Feminino</td>\n",
              "      <td>sim</td>\n",
              "      <td>qui</td>\n",
              "      <td>almoco</td>\n",
              "      <td>3</td>\n",
              "      <td>43</td>\n",
              "    </tr>\n",
              "    <tr>\n",
              "      <th>209</th>\n",
              "      <td>12.76</td>\n",
              "      <td>2.23</td>\n",
              "      <td>Feminino</td>\n",
              "      <td>sim</td>\n",
              "      <td>sab</td>\n",
              "      <td>jantar</td>\n",
              "      <td>2</td>\n",
              "      <td>45</td>\n",
              "    </tr>\n",
              "    <tr>\n",
              "      <th>213</th>\n",
              "      <td>13.27</td>\n",
              "      <td>2.50</td>\n",
              "      <td>Feminino</td>\n",
              "      <td>sim</td>\n",
              "      <td>sab</td>\n",
              "      <td>jantar</td>\n",
              "      <td>2</td>\n",
              "      <td>46</td>\n",
              "    </tr>\n",
              "    <tr>\n",
              "      <th>214</th>\n",
              "      <td>28.17</td>\n",
              "      <td>6.50</td>\n",
              "      <td>Feminino</td>\n",
              "      <td>sim</td>\n",
              "      <td>sab</td>\n",
              "      <td>jantar</td>\n",
              "      <td>3</td>\n",
              "      <td>38</td>\n",
              "    </tr>\n",
              "    <tr>\n",
              "      <th>215</th>\n",
              "      <td>12.90</td>\n",
              "      <td>1.10</td>\n",
              "      <td>Feminino</td>\n",
              "      <td>sim</td>\n",
              "      <td>sab</td>\n",
              "      <td>jantar</td>\n",
              "      <td>2</td>\n",
              "      <td>38</td>\n",
              "    </tr>\n",
              "    <tr>\n",
              "      <th>219</th>\n",
              "      <td>30.14</td>\n",
              "      <td>3.09</td>\n",
              "      <td>Feminino</td>\n",
              "      <td>sim</td>\n",
              "      <td>sab</td>\n",
              "      <td>jantar</td>\n",
              "      <td>4</td>\n",
              "      <td>41</td>\n",
              "    </tr>\n",
              "    <tr>\n",
              "      <th>221</th>\n",
              "      <td>13.42</td>\n",
              "      <td>3.48</td>\n",
              "      <td>Feminino</td>\n",
              "      <td>sim</td>\n",
              "      <td>sex</td>\n",
              "      <td>almoco</td>\n",
              "      <td>2</td>\n",
              "      <td>41</td>\n",
              "    </tr>\n",
              "    <tr>\n",
              "      <th>223</th>\n",
              "      <td>15.98</td>\n",
              "      <td>3.00</td>\n",
              "      <td>Feminino</td>\n",
              "      <td>nao</td>\n",
              "      <td>sex</td>\n",
              "      <td>almoco</td>\n",
              "      <td>3</td>\n",
              "      <td>40</td>\n",
              "    </tr>\n",
              "    <tr>\n",
              "      <th>225</th>\n",
              "      <td>16.27</td>\n",
              "      <td>2.50</td>\n",
              "      <td>Feminino</td>\n",
              "      <td>sim</td>\n",
              "      <td>sex</td>\n",
              "      <td>almoco</td>\n",
              "      <td>2</td>\n",
              "      <td>50</td>\n",
              "    </tr>\n",
              "    <tr>\n",
              "      <th>226</th>\n",
              "      <td>10.09</td>\n",
              "      <td>2.00</td>\n",
              "      <td>Feminino</td>\n",
              "      <td>sim</td>\n",
              "      <td>sex</td>\n",
              "      <td>almoco</td>\n",
              "      <td>2</td>\n",
              "      <td>51</td>\n",
              "    </tr>\n",
              "    <tr>\n",
              "      <th>229</th>\n",
              "      <td>22.12</td>\n",
              "      <td>2.88</td>\n",
              "      <td>Feminino</td>\n",
              "      <td>sim</td>\n",
              "      <td>sab</td>\n",
              "      <td>jantar</td>\n",
              "      <td>2</td>\n",
              "      <td>42</td>\n",
              "    </tr>\n",
              "    <tr>\n",
              "      <th>238</th>\n",
              "      <td>35.83</td>\n",
              "      <td>4.67</td>\n",
              "      <td>Feminino</td>\n",
              "      <td>nao</td>\n",
              "      <td>sab</td>\n",
              "      <td>jantar</td>\n",
              "      <td>3</td>\n",
              "      <td>42</td>\n",
              "    </tr>\n",
              "    <tr>\n",
              "      <th>240</th>\n",
              "      <td>27.18</td>\n",
              "      <td>2.00</td>\n",
              "      <td>Feminino</td>\n",
              "      <td>sim</td>\n",
              "      <td>sab</td>\n",
              "      <td>jantar</td>\n",
              "      <td>2</td>\n",
              "      <td>35</td>\n",
              "    </tr>\n",
              "    <tr>\n",
              "      <th>243</th>\n",
              "      <td>18.78</td>\n",
              "      <td>3.00</td>\n",
              "      <td>Feminino</td>\n",
              "      <td>nao</td>\n",
              "      <td>qui</td>\n",
              "      <td>jantar</td>\n",
              "      <td>2</td>\n",
              "      <td>40</td>\n",
              "    </tr>\n",
              "  </tbody>\n",
              "</table>\n",
              "<p>87 rows × 8 columns</p>\n",
              "</div>"
            ],
            "text/plain": [
              "     total_conta  gorjeta    genero fumante  dia horario  pessoas_mesa  \\\n",
              "0          16.99     1.01  Feminino     nao  dom  jantar             2   \n",
              "4          24.59     3.61  Feminino     nao  dom  jantar             4   \n",
              "11         35.26     5.00  Feminino     nao  dom  jantar             4   \n",
              "14         14.83     3.02  Feminino     nao  dom  jantar             2   \n",
              "16         10.33     1.67  Feminino     nao  dom  jantar             3   \n",
              "18         16.97     3.50  Feminino     nao  dom  jantar             3   \n",
              "21         20.29     2.75  Feminino     nao  sab  jantar             2   \n",
              "22         15.77     2.23  Feminino     nao  sab  jantar             2   \n",
              "29         19.65     3.00  Feminino     nao  sab  jantar             2   \n",
              "32         15.06     3.00  Feminino     nao  sab  jantar             2   \n",
              "33         20.69     2.45  Feminino     nao  sab  jantar             4   \n",
              "37         16.93     3.07  Feminino     nao  sab  jantar             3   \n",
              "51         10.29     2.60  Feminino     nao  dom  jantar             2   \n",
              "52         34.81     5.20  Feminino     nao  dom  jantar             4   \n",
              "57         26.41     1.50  Feminino     nao  sab  jantar             2   \n",
              "66         16.45     2.47  Feminino     nao  sab  jantar             2   \n",
              "67          3.07     1.00  Feminino     sim  sab  jantar             1   \n",
              "71         17.07     3.00  Feminino     nao  sab  jantar             3   \n",
              "72         26.86     3.14  Feminino     sim  sab  jantar             2   \n",
              "73         25.28     5.00  Feminino     sim  sab  jantar             2   \n",
              "74         14.73     2.20  Feminino     nao  sab  jantar             2   \n",
              "82         10.07     1.83  Feminino     nao  qui  almoco             1   \n",
              "85         34.83     5.17  Feminino     nao  qui  almoco             4   \n",
              "92          5.75     1.00  Feminino     sim  sex  jantar             2   \n",
              "93         16.32     4.30  Feminino     sim  sex  jantar             2   \n",
              "94         22.75     3.25  Feminino     nao  sex  jantar             2   \n",
              "100        11.35     2.50  Feminino     sim  sex  jantar             2   \n",
              "101        15.38     3.00  Feminino     sim  sex  jantar             2   \n",
              "102        44.30     2.50  Feminino     sim  sab  jantar             3   \n",
              "103        22.42     3.48  Feminino     sim  sab  jantar             2   \n",
              "..           ...      ...       ...     ...  ...     ...           ...   \n",
              "155        29.85     5.14  Feminino     nao  dom  jantar             5   \n",
              "157        25.00     3.75  Feminino     nao  dom  jantar             4   \n",
              "158        13.39     2.61  Feminino     nao  dom  jantar             2   \n",
              "162        16.21     2.00  Feminino     nao  dom  jantar             3   \n",
              "164        17.51     3.00  Feminino     sim  dom  jantar             2   \n",
              "168        10.59     1.61  Feminino     sim  sab  jantar             2   \n",
              "169        10.63     2.00  Feminino     sim  sab  jantar             2   \n",
              "178         9.60     4.00  Feminino     sim  dom  jantar             2   \n",
              "186        20.90     3.50  Feminino     sim  dom  jantar             3   \n",
              "188        18.15     3.50  Feminino     sim  dom  jantar             3   \n",
              "191        19.81     4.19  Feminino     sim  qui  almoco             2   \n",
              "197        43.11     5.00  Feminino     sim  qui  almoco             4   \n",
              "198        13.00     2.00  Feminino     sim  qui  almoco             2   \n",
              "201        12.74     2.01  Feminino     sim  qui  almoco             2   \n",
              "202        13.00     2.00  Feminino     sim  qui  almoco             2   \n",
              "203        16.40     2.50  Feminino     sim  qui  almoco             2   \n",
              "205        16.47     3.23  Feminino     sim  qui  almoco             3   \n",
              "209        12.76     2.23  Feminino     sim  sab  jantar             2   \n",
              "213        13.27     2.50  Feminino     sim  sab  jantar             2   \n",
              "214        28.17     6.50  Feminino     sim  sab  jantar             3   \n",
              "215        12.90     1.10  Feminino     sim  sab  jantar             2   \n",
              "219        30.14     3.09  Feminino     sim  sab  jantar             4   \n",
              "221        13.42     3.48  Feminino     sim  sex  almoco             2   \n",
              "223        15.98     3.00  Feminino     nao  sex  almoco             3   \n",
              "225        16.27     2.50  Feminino     sim  sex  almoco             2   \n",
              "226        10.09     2.00  Feminino     sim  sex  almoco             2   \n",
              "229        22.12     2.88  Feminino     sim  sab  jantar             2   \n",
              "238        35.83     4.67  Feminino     nao  sab  jantar             3   \n",
              "240        27.18     2.00  Feminino     sim  sab  jantar             2   \n",
              "243        18.78     3.00  Feminino     nao  qui  jantar             2   \n",
              "\n",
              "     tempo_permanencia  \n",
              "0                   41  \n",
              "4                   34  \n",
              "11                  38  \n",
              "14                  42  \n",
              "16                  35  \n",
              "18                  48  \n",
              "21                  44  \n",
              "22                  50  \n",
              "29                  37  \n",
              "32                  42  \n",
              "33                  42  \n",
              "37                  41  \n",
              "51                  42  \n",
              "52                  40  \n",
              "57                  34  \n",
              "66                  38  \n",
              "67                  48  \n",
              "71                  45  \n",
              "72                  43  \n",
              "73                  35  \n",
              "74                  43  \n",
              "82                  41  \n",
              "85                  41  \n",
              "92                  46  \n",
              "93                  36  \n",
              "94                  38  \n",
              "100                 46  \n",
              "101                 47  \n",
              "102                 45  \n",
              "103                 45  \n",
              "..                 ...  \n",
              "155                 38  \n",
              "157                 47  \n",
              "158                 40  \n",
              "162                 46  \n",
              "164                 39  \n",
              "168                 39  \n",
              "169                 29  \n",
              "178                 36  \n",
              "186                 34  \n",
              "188                 44  \n",
              "191                 32  \n",
              "197                 39  \n",
              "198                 40  \n",
              "201                 49  \n",
              "202                 43  \n",
              "203                 53  \n",
              "205                 43  \n",
              "209                 45  \n",
              "213                 46  \n",
              "214                 38  \n",
              "215                 38  \n",
              "219                 41  \n",
              "221                 41  \n",
              "223                 40  \n",
              "225                 50  \n",
              "226                 51  \n",
              "229                 42  \n",
              "238                 42  \n",
              "240                 35  \n",
              "243                 40  \n",
              "\n",
              "[87 rows x 8 columns]"
            ]
          },
          "metadata": {
            "tags": []
          },
          "execution_count": 16
        }
      ]
    },
    {
      "metadata": {
        "id": "7l4HZ5EeBntB",
        "colab_type": "code",
        "colab": {
          "base_uri": "https://localhost:8080/",
          "height": 34
        },
        "outputId": "5cceb5e7-3227-4ae0-c5a2-ddc918d7c053"
      },
      "cell_type": "code",
      "source": [
        "tips_data['gorjeta'].mean()"
      ],
      "execution_count": 17,
      "outputs": [
        {
          "output_type": "execute_result",
          "data": {
            "text/plain": [
              "2.9982786885245902"
            ]
          },
          "metadata": {
            "tags": []
          },
          "execution_count": 17
        }
      ]
    },
    {
      "metadata": {
        "id": "0BCerd1bB7oU",
        "colab_type": "code",
        "colab": {
          "base_uri": "https://localhost:8080/",
          "height": 34
        },
        "outputId": "3c8e5996-39b2-4089-e108-ffbc206f77b7"
      },
      "cell_type": "code",
      "source": [
        "tips_data['total_conta'].mean()"
      ],
      "execution_count": 19,
      "outputs": [
        {
          "output_type": "execute_result",
          "data": {
            "text/plain": [
              "19.785942622950824"
            ]
          },
          "metadata": {
            "tags": []
          },
          "execution_count": 19
        }
      ]
    },
    {
      "metadata": {
        "id": "uqTgJvT9CXZO",
        "colab_type": "code",
        "colab": {
          "base_uri": "https://localhost:8080/",
          "height": 85
        },
        "outputId": "47ae34a0-8c6c-4397-ebe0-44ce5d4bf003"
      },
      "cell_type": "code",
      "source": [
        "tips_data[['total_conta','gorjeta','tempo_permanencia']].mean()"
      ],
      "execution_count": 23,
      "outputs": [
        {
          "output_type": "execute_result",
          "data": {
            "text/plain": [
              "total_conta          19.785943\n",
              "gorjeta               2.998279\n",
              "tempo_permanencia    40.262295\n",
              "dtype: float64"
            ]
          },
          "metadata": {
            "tags": []
          },
          "execution_count": 23
        }
      ]
    },
    {
      "metadata": {
        "id": "1SrPw4ODDR2t",
        "colab_type": "code",
        "colab": {
          "base_uri": "https://localhost:8080/",
          "height": 102
        },
        "outputId": "40ad8d9e-da6d-4277-b048-a4c0f9b2040f"
      },
      "cell_type": "code",
      "source": [
        "tips_data.mean()"
      ],
      "execution_count": 24,
      "outputs": [
        {
          "output_type": "execute_result",
          "data": {
            "text/plain": [
              "total_conta          19.785943\n",
              "gorjeta               2.998279\n",
              "pessoas_mesa          2.569672\n",
              "tempo_permanencia    40.262295\n",
              "dtype: float64"
            ]
          },
          "metadata": {
            "tags": []
          },
          "execution_count": 24
        }
      ]
    },
    {
      "metadata": {
        "id": "pE9vhiylGMaZ",
        "colab_type": "code",
        "colab": {
          "base_uri": "https://localhost:8080/",
          "height": 51
        },
        "outputId": "0794cba3-2fc4-4294-d42c-abac9cb99160"
      },
      "cell_type": "code",
      "source": [
        "tips_data['genero'].mode()"
      ],
      "execution_count": 26,
      "outputs": [
        {
          "output_type": "execute_result",
          "data": {
            "text/plain": [
              "0    Masculino\n",
              "dtype: object"
            ]
          },
          "metadata": {
            "tags": []
          },
          "execution_count": 26
        }
      ]
    },
    {
      "metadata": {
        "id": "9B_JQxsPGWxw",
        "colab_type": "code",
        "colab": {
          "base_uri": "https://localhost:8080/",
          "height": 51
        },
        "outputId": "b7b1b2f2-cb54-4c31-9f03-40d0cdbc141a"
      },
      "cell_type": "code",
      "source": [
        "tips_data['dia'].mode()"
      ],
      "execution_count": 27,
      "outputs": [
        {
          "output_type": "execute_result",
          "data": {
            "text/plain": [
              "0    sab\n",
              "dtype: object"
            ]
          },
          "metadata": {
            "tags": []
          },
          "execution_count": 27
        }
      ]
    },
    {
      "metadata": {
        "id": "YrLE3xTiGh8i",
        "colab_type": "code",
        "colab": {
          "base_uri": "https://localhost:8080/",
          "height": 51
        },
        "outputId": "305d701e-54e3-4209-d677-3265a317a58a"
      },
      "cell_type": "code",
      "source": [
        "tips_data['horario'].mode()"
      ],
      "execution_count": 28,
      "outputs": [
        {
          "output_type": "execute_result",
          "data": {
            "text/plain": [
              "0    jantar\n",
              "dtype: object"
            ]
          },
          "metadata": {
            "tags": []
          },
          "execution_count": 28
        }
      ]
    },
    {
      "metadata": {
        "id": "HB3zWMRGGqcm",
        "colab_type": "code",
        "colab": {
          "base_uri": "https://localhost:8080/",
          "height": 51
        },
        "outputId": "236ec327-d520-4ffb-ef06-50c64f009354"
      },
      "cell_type": "code",
      "source": [
        "tips_data['fumante'].mode()"
      ],
      "execution_count": 29,
      "outputs": [
        {
          "output_type": "execute_result",
          "data": {
            "text/plain": [
              "0    nao\n",
              "dtype: object"
            ]
          },
          "metadata": {
            "tags": []
          },
          "execution_count": 29
        }
      ]
    },
    {
      "metadata": {
        "id": "joVXlKq0K_Wn",
        "colab_type": "code",
        "colab": {
          "base_uri": "https://localhost:8080/",
          "height": 34
        },
        "outputId": "7989e12f-8a03-4361-e120-a127e392e618"
      },
      "cell_type": "code",
      "source": [
        "tips_data['total_conta'].median()"
      ],
      "execution_count": 31,
      "outputs": [
        {
          "output_type": "execute_result",
          "data": {
            "text/plain": [
              "17.795"
            ]
          },
          "metadata": {
            "tags": []
          },
          "execution_count": 31
        }
      ]
    },
    {
      "metadata": {
        "id": "faOmzmCNLObg",
        "colab_type": "code",
        "colab": {
          "base_uri": "https://localhost:8080/",
          "height": 34
        },
        "outputId": "5817a819-aef6-4f93-97eb-8b53da2d0324"
      },
      "cell_type": "code",
      "source": [
        "tips_data['gorjeta'].median()"
      ],
      "execution_count": 32,
      "outputs": [
        {
          "output_type": "execute_result",
          "data": {
            "text/plain": [
              "2.9"
            ]
          },
          "metadata": {
            "tags": []
          },
          "execution_count": 32
        }
      ]
    },
    {
      "metadata": {
        "id": "6IyVBchzLdB-",
        "colab_type": "code",
        "colab": {
          "base_uri": "https://localhost:8080/",
          "height": 34
        },
        "outputId": "bb0ed6fd-1ec5-4cb6-8db5-44fed5ef109f"
      },
      "cell_type": "code",
      "source": [
        "tips_data['total_conta'].mean()"
      ],
      "execution_count": 33,
      "outputs": [
        {
          "output_type": "execute_result",
          "data": {
            "text/plain": [
              "19.785942622950824"
            ]
          },
          "metadata": {
            "tags": []
          },
          "execution_count": 33
        }
      ]
    },
    {
      "metadata": {
        "id": "Cv7wjHtyLzUk",
        "colab_type": "code",
        "colab": {
          "base_uri": "https://localhost:8080/",
          "height": 34
        },
        "outputId": "2d12a8fb-4751-4cd9-974b-53fd747e154a"
      },
      "cell_type": "code",
      "source": [
        "tips_data['gorjeta'].mean()"
      ],
      "execution_count": 34,
      "outputs": [
        {
          "output_type": "execute_result",
          "data": {
            "text/plain": [
              "2.9982786885245902"
            ]
          },
          "metadata": {
            "tags": []
          },
          "execution_count": 34
        }
      ]
    },
    {
      "metadata": {
        "id": "yPhIZFLnQfCE",
        "colab_type": "code",
        "colab": {
          "base_uri": "https://localhost:8080/",
          "height": 34
        },
        "outputId": "c2c4c2a0-57cc-42fa-8891-53db3124ff3d"
      },
      "cell_type": "code",
      "source": [
        "tips_data['tempo_permanencia'].mean()"
      ],
      "execution_count": 35,
      "outputs": [
        {
          "output_type": "execute_result",
          "data": {
            "text/plain": [
              "40.26229508196721"
            ]
          },
          "metadata": {
            "tags": []
          },
          "execution_count": 35
        }
      ]
    },
    {
      "metadata": {
        "id": "ge96cF-OQsIv",
        "colab_type": "code",
        "colab": {
          "base_uri": "https://localhost:8080/",
          "height": 34
        },
        "outputId": "abc5c8cf-4520-4054-f184-2b5737455847"
      },
      "cell_type": "code",
      "source": [
        "tips_data['tempo_permanencia'].median()"
      ],
      "execution_count": 36,
      "outputs": [
        {
          "output_type": "execute_result",
          "data": {
            "text/plain": [
              "40.0"
            ]
          },
          "metadata": {
            "tags": []
          },
          "execution_count": 36
        }
      ]
    },
    {
      "metadata": {
        "id": "dCeNvjWhQ3Md",
        "colab_type": "code",
        "colab": {
          "base_uri": "https://localhost:8080/",
          "height": 68
        },
        "outputId": "d771ff60-23b9-49eb-b424-8e8de535c98a"
      },
      "cell_type": "code",
      "source": [
        "tips_data['tempo_permanencia'].mode()"
      ],
      "execution_count": 38,
      "outputs": [
        {
          "output_type": "execute_result",
          "data": {
            "text/plain": [
              "0    37\n",
              "1    38\n",
              "dtype: int64"
            ]
          },
          "metadata": {
            "tags": []
          },
          "execution_count": 38
        }
      ]
    },
    {
      "metadata": {
        "id": "HhV2iFiPqoct",
        "colab_type": "code",
        "colab": {
          "base_uri": "https://localhost:8080/",
          "height": 102
        },
        "outputId": "5c451973-38bd-4985-8eb6-285ae0f8bb03"
      },
      "cell_type": "code",
      "source": [
        "tips_data.quantile(.25)"
      ],
      "execution_count": 39,
      "outputs": [
        {
          "output_type": "execute_result",
          "data": {
            "text/plain": [
              "total_conta          13.3475\n",
              "gorjeta               2.0000\n",
              "pessoas_mesa          2.0000\n",
              "tempo_permanencia    37.0000\n",
              "Name: 0.25, dtype: float64"
            ]
          },
          "metadata": {
            "tags": []
          },
          "execution_count": 39
        }
      ]
    },
    {
      "metadata": {
        "id": "456F6B97rPVh",
        "colab_type": "code",
        "colab": {
          "base_uri": "https://localhost:8080/",
          "height": 34
        },
        "outputId": "76f64460-ab45-4a5f-f1a6-786c4d644290"
      },
      "cell_type": "code",
      "source": [
        "tips_data['total_conta'].quantile(.25)"
      ],
      "execution_count": 41,
      "outputs": [
        {
          "output_type": "execute_result",
          "data": {
            "text/plain": [
              "13.3475"
            ]
          },
          "metadata": {
            "tags": []
          },
          "execution_count": 41
        }
      ]
    },
    {
      "metadata": {
        "id": "R4STGFkKrwMg",
        "colab_type": "code",
        "colab": {
          "base_uri": "https://localhost:8080/",
          "height": 34
        },
        "outputId": "73461ca2-1301-4c61-a3cf-dcd1fe72cb6d"
      },
      "cell_type": "code",
      "source": [
        "tips_data['total_conta'].quantile(.75)"
      ],
      "execution_count": 42,
      "outputs": [
        {
          "output_type": "execute_result",
          "data": {
            "text/plain": [
              "24.127499999999998"
            ]
          },
          "metadata": {
            "tags": []
          },
          "execution_count": 42
        }
      ]
    },
    {
      "metadata": {
        "id": "_Qot0udMr_ev",
        "colab_type": "code",
        "colab": {
          "base_uri": "https://localhost:8080/",
          "height": 34
        },
        "outputId": "236bbed4-6135-4c6d-8fbb-9f6c8d2f480f"
      },
      "cell_type": "code",
      "source": [
        "tips_data['total_conta'].median()"
      ],
      "execution_count": 43,
      "outputs": [
        {
          "output_type": "execute_result",
          "data": {
            "text/plain": [
              "17.795"
            ]
          },
          "metadata": {
            "tags": []
          },
          "execution_count": 43
        }
      ]
    },
    {
      "metadata": {
        "id": "uZXa4VA_sNaw",
        "colab_type": "code",
        "colab": {
          "base_uri": "https://localhost:8080/",
          "height": 34
        },
        "outputId": "a5db10a9-e7c6-4712-f46c-41f0ead6c55b"
      },
      "cell_type": "code",
      "source": [
        "tips_data['total_conta'].quantile(.50)"
      ],
      "execution_count": 44,
      "outputs": [
        {
          "output_type": "execute_result",
          "data": {
            "text/plain": [
              "17.795"
            ]
          },
          "metadata": {
            "tags": []
          },
          "execution_count": 44
        }
      ]
    },
    {
      "metadata": {
        "id": "OffOHUges_Yd",
        "colab_type": "code",
        "colab": {
          "base_uri": "https://localhost:8080/",
          "height": 119
        },
        "outputId": "37258cb5-b4c5-42a8-f6d9-9a0b19dda2d0"
      },
      "cell_type": "code",
      "source": [
        "tips_data.groupby('genero')['fumante'].value_counts()"
      ],
      "execution_count": 49,
      "outputs": [
        {
          "output_type": "execute_result",
          "data": {
            "text/plain": [
              "genero     fumante\n",
              "Feminino   nao        54\n",
              "           sim        33\n",
              "Masculino  nao        97\n",
              "           sim        60\n",
              "Name: fumante, dtype: int64"
            ]
          },
          "metadata": {
            "tags": []
          },
          "execution_count": 49
        }
      ]
    },
    {
      "metadata": {
        "id": "r5sbuuxwzw_6",
        "colab_type": "code",
        "colab": {
          "base_uri": "https://localhost:8080/",
          "height": 187
        },
        "outputId": "7fce14ec-deee-46cd-f177-b6fd8f5c4301"
      },
      "cell_type": "code",
      "source": [
        "tips_data.groupby('genero')['dia'].value_counts()"
      ],
      "execution_count": 59,
      "outputs": [
        {
          "output_type": "execute_result",
          "data": {
            "text/plain": [
              "genero     dia\n",
              "Feminino   qui    32\n",
              "           sab    28\n",
              "           dom    18\n",
              "           sex     9\n",
              "Masculino  sab    59\n",
              "           dom    58\n",
              "           qui    30\n",
              "           sex    10\n",
              "Name: dia, dtype: int64"
            ]
          },
          "metadata": {
            "tags": []
          },
          "execution_count": 59
        }
      ]
    },
    {
      "metadata": {
        "id": "un6PIRzy21Cr",
        "colab_type": "code",
        "colab": {
          "base_uri": "https://localhost:8080/",
          "height": 255
        },
        "outputId": "b19f1594-5c52-4130-a23f-b59784614840"
      },
      "cell_type": "code",
      "source": [
        "tips_data.groupby('horario')['pessoas_mesa'].value_counts()"
      ],
      "execution_count": 58,
      "outputs": [
        {
          "output_type": "execute_result",
          "data": {
            "text/plain": [
              "horario  pessoas_mesa\n",
              "almoco   2                52\n",
              "         3                 5\n",
              "         4                 5\n",
              "         6                 3\n",
              "         1                 2\n",
              "         5                 1\n",
              "jantar   2               104\n",
              "         3                33\n",
              "         4                32\n",
              "         5                 4\n",
              "         1                 2\n",
              "         6                 1\n",
              "Name: pessoas_mesa, dtype: int64"
            ]
          },
          "metadata": {
            "tags": []
          },
          "execution_count": 58
        }
      ]
    },
    {
      "metadata": {
        "id": "XFsJCS-W38iE",
        "colab_type": "code",
        "colab": {
          "base_uri": "https://localhost:8080/",
          "height": 85
        },
        "outputId": "880d5101-7a7f-494f-fc12-23a70e723229"
      },
      "cell_type": "code",
      "source": [
        "tips_data.groupby('horario')['total_conta'].sum()"
      ],
      "execution_count": 62,
      "outputs": [
        {
          "output_type": "execute_result",
          "data": {
            "text/plain": [
              "horario\n",
              "almoco    1167.47\n",
              "jantar    3660.30\n",
              "Name: total_conta, dtype: float64"
            ]
          },
          "metadata": {
            "tags": []
          },
          "execution_count": 62
        }
      ]
    },
    {
      "metadata": {
        "id": "N5Ar4a6S45kR",
        "colab_type": "code",
        "colab": {
          "base_uri": "https://localhost:8080/",
          "height": 142
        },
        "outputId": "11cbf0f7-3101-4345-b30c-5b1b7ffaad3f"
      },
      "cell_type": "code",
      "source": [
        "tips_data.groupby('genero')['total_conta'].agg(['sum','mean'])"
      ],
      "execution_count": 64,
      "outputs": [
        {
          "output_type": "execute_result",
          "data": {
            "text/html": [
              "<div>\n",
              "<style scoped>\n",
              "    .dataframe tbody tr th:only-of-type {\n",
              "        vertical-align: middle;\n",
              "    }\n",
              "\n",
              "    .dataframe tbody tr th {\n",
              "        vertical-align: top;\n",
              "    }\n",
              "\n",
              "    .dataframe thead th {\n",
              "        text-align: right;\n",
              "    }\n",
              "</style>\n",
              "<table border=\"1\" class=\"dataframe\">\n",
              "  <thead>\n",
              "    <tr style=\"text-align: right;\">\n",
              "      <th></th>\n",
              "      <th>sum</th>\n",
              "      <th>mean</th>\n",
              "    </tr>\n",
              "    <tr>\n",
              "      <th>genero</th>\n",
              "      <th></th>\n",
              "      <th></th>\n",
              "    </tr>\n",
              "  </thead>\n",
              "  <tbody>\n",
              "    <tr>\n",
              "      <th>Feminino</th>\n",
              "      <td>1570.95</td>\n",
              "      <td>18.056897</td>\n",
              "    </tr>\n",
              "    <tr>\n",
              "      <th>Masculino</th>\n",
              "      <td>3256.82</td>\n",
              "      <td>20.744076</td>\n",
              "    </tr>\n",
              "  </tbody>\n",
              "</table>\n",
              "</div>"
            ],
            "text/plain": [
              "               sum       mean\n",
              "genero                       \n",
              "Feminino   1570.95  18.056897\n",
              "Masculino  3256.82  20.744076"
            ]
          },
          "metadata": {
            "tags": []
          },
          "execution_count": 64
        }
      ]
    },
    {
      "metadata": {
        "id": "-LcsRqVs-9iK",
        "colab_type": "code",
        "colab": {
          "base_uri": "https://localhost:8080/",
          "height": 295
        },
        "outputId": "71888ce0-5ec6-4519-fb25-ada0fca2e9db"
      },
      "cell_type": "code",
      "source": [
        "tips_data['tempo_permanencia'].plot.hist()\n",
        "plt.title('Histograma: Tempo de Permanência')\n",
        "plt.xlabel('Tempo de permanencia')\n",
        "plt.ylabel('Frequencia');"
      ],
      "execution_count": 70,
      "outputs": [
        {
          "output_type": "display_data",
          "data": {
            "image/png": "[encoded data removed]",
            "text/plain": [
              "<Figure size 432x288 with 1 Axes>"
            ]
          },
          "metadata": {
            "tags": []
          }
        }
      ]
    },
    {
      "metadata": {
        "id": "NoBNZoUX_ON6",
        "colab_type": "code",
        "colab": {
          "base_uri": "https://localhost:8080/",
          "height": 295
        },
        "outputId": "2ba2a454-ab70-4316-ebd5-900b562de114"
      },
      "cell_type": "code",
      "source": [
        "plt.boxplot(tips_data['total_conta'])\n",
        "plt.title('Total da conta')\n",
        "plt.xlabel('Total da conta')\n",
        "plt.ylabel('Frequencia');"
      ],
      "execution_count": 72,
      "outputs": [
        {
          "output_type": "display_data",
          "data": {
            "image/png": "[encoded data removed]",
            "text/plain": [
              "<Figure size 432x288 with 1 Axes>"
            ]
          },
          "metadata": {
            "tags": []
          }
        }
      ]
    },
    {
      "metadata": {
        "id": "Wdt6prP7DVBI",
        "colab_type": "code",
        "colab": {
          "base_uri": "https://localhost:8080/",
          "height": 405
        },
        "outputId": "9cbe9816-1930-4c97-c538-cc95bd5e2266"
      },
      "cell_type": "code",
      "source": [
        "plt.boxplot(tips_data['tempo_permanencia'])"
      ],
      "execution_count": 73,
      "outputs": [
        {
          "output_type": "execute_result",
          "data": {
            "text/plain": [
              "{'boxes': [<matplotlib.lines.Line2D at 0x7f4fe51d6518>],\n",
              " 'caps': [<matplotlib.lines.Line2D at 0x7f4fe51d6d30>,\n",
              "  <matplotlib.lines.Line2D at 0x7f4fe51df0b8>],\n",
              " 'fliers': [<matplotlib.lines.Line2D at 0x7f4fe51df748>],\n",
              " 'means': [],\n",
              " 'medians': [<matplotlib.lines.Line2D at 0x7f4fe51df400>],\n",
              " 'whiskers': [<matplotlib.lines.Line2D at 0x7f4fe51d6668>,\n",
              "  <matplotlib.lines.Line2D at 0x7f4fe51d69e8>]}"
            ]
          },
          "metadata": {
            "tags": []
          },
          "execution_count": 73
        },
        {
          "output_type": "display_data",
          "data": {
            "image/png": "[encoded data removed]",
            "text/plain": [
              "<Figure size 432x288 with 1 Axes>"
            ]
          },
          "metadata": {
            "tags": []
          }
        }
      ]
    },
    {
      "metadata": {
        "id": "Up6ZEaz3MkKP",
        "colab_type": "code",
        "colab": {
          "base_uri": "https://localhost:8080/",
          "height": 34
        },
        "outputId": "05bdcd76-d906-4260-b737-8c96a9e9beaf"
      },
      "cell_type": "code",
      "source": [
        "tips_data['tempo_permanencia'].var()"
      ],
      "execution_count": 75,
      "outputs": [
        {
          "output_type": "execute_result",
          "data": {
            "text/plain": [
              "26.59758483437902"
            ]
          },
          "metadata": {
            "tags": []
          },
          "execution_count": 75
        }
      ]
    },
    {
      "metadata": {
        "id": "6-KjN11bQUWe",
        "colab_type": "code",
        "colab": {
          "base_uri": "https://localhost:8080/",
          "height": 34
        },
        "outputId": "6d6c496c-3dd1-44fd-9f31-8636226316b6"
      },
      "cell_type": "code",
      "source": [
        "tips_data['tempo_permanencia'].median()"
      ],
      "execution_count": 76,
      "outputs": [
        {
          "output_type": "execute_result",
          "data": {
            "text/plain": [
              "40.0"
            ]
          },
          "metadata": {
            "tags": []
          },
          "execution_count": 76
        }
      ]
    },
    {
      "metadata": {
        "id": "nvxwgxFyQt2F",
        "colab_type": "code",
        "colab": {
          "base_uri": "https://localhost:8080/",
          "height": 34
        },
        "outputId": "d18b361f-46e1-40ac-d4ad-725d840c6768"
      },
      "cell_type": "code",
      "source": [
        "tips_data['tempo_permanencia'].std()"
      ],
      "execution_count": 77,
      "outputs": [
        {
          "output_type": "execute_result",
          "data": {
            "text/plain": [
              "5.157284637711886"
            ]
          },
          "metadata": {
            "tags": []
          },
          "execution_count": 77
        }
      ]
    },
    {
      "metadata": {
        "id": "KMydT9DbRDzu",
        "colab_type": "code",
        "colab": {
          "base_uri": "https://localhost:8080/",
          "height": 85
        },
        "outputId": "3e1cdd9b-c12f-4542-95b4-c220dd237ff1"
      },
      "cell_type": "code",
      "source": [
        "tips_data.groupby('genero')['total_conta'].var()"
      ],
      "execution_count": 81,
      "outputs": [
        {
          "output_type": "execute_result",
          "data": {
            "text/plain": [
              "genero\n",
              "Feminino     64.147429\n",
              "Masculino    85.497185\n",
              "Name: total_conta, dtype: float64"
            ]
          },
          "metadata": {
            "tags": []
          },
          "execution_count": 81
        }
      ]
    },
    {
      "metadata": {
        "id": "cC0p7UOiRmJW",
        "colab_type": "code",
        "colab": {
          "base_uri": "https://localhost:8080/",
          "height": 297
        },
        "outputId": "3eec7a62-9466-4eb3-dd5f-c21ffafe7855"
      },
      "cell_type": "code",
      "source": [
        "tips_data.describe()"
      ],
      "execution_count": 82,
      "outputs": [
        {
          "output_type": "execute_result",
          "data": {
            "text/html": [
              "<div>\n",
              "<style scoped>\n",
              "    .dataframe tbody tr th:only-of-type {\n",
              "        vertical-align: middle;\n",
              "    }\n",
              "\n",
              "    .dataframe tbody tr th {\n",
              "        vertical-align: top;\n",
              "    }\n",
              "\n",
              "    .dataframe thead th {\n",
              "        text-align: right;\n",
              "    }\n",
              "</style>\n",
              "<table border=\"1\" class=\"dataframe\">\n",
              "  <thead>\n",
              "    <tr style=\"text-align: right;\">\n",
              "      <th></th>\n",
              "      <th>total_conta</th>\n",
              "      <th>gorjeta</th>\n",
              "      <th>pessoas_mesa</th>\n",
              "      <th>tempo_permanencia</th>\n",
              "    </tr>\n",
              "  </thead>\n",
              "  <tbody>\n",
              "    <tr>\n",
              "      <th>count</th>\n",
              "      <td>244.000000</td>\n",
              "      <td>244.000000</td>\n",
              "      <td>244.000000</td>\n",
              "      <td>244.000000</td>\n",
              "    </tr>\n",
              "    <tr>\n",
              "      <th>mean</th>\n",
              "      <td>19.785943</td>\n",
              "      <td>2.998279</td>\n",
              "      <td>2.569672</td>\n",
              "      <td>40.262295</td>\n",
              "    </tr>\n",
              "    <tr>\n",
              "      <th>std</th>\n",
              "      <td>8.902412</td>\n",
              "      <td>1.383638</td>\n",
              "      <td>0.951100</td>\n",
              "      <td>5.157285</td>\n",
              "    </tr>\n",
              "    <tr>\n",
              "      <th>min</th>\n",
              "      <td>3.070000</td>\n",
              "      <td>1.000000</td>\n",
              "      <td>1.000000</td>\n",
              "      <td>26.000000</td>\n",
              "    </tr>\n",
              "    <tr>\n",
              "      <th>25%</th>\n",
              "      <td>13.347500</td>\n",
              "      <td>2.000000</td>\n",
              "      <td>2.000000</td>\n",
              "      <td>37.000000</td>\n",
              "    </tr>\n",
              "    <tr>\n",
              "      <th>50%</th>\n",
              "      <td>17.795000</td>\n",
              "      <td>2.900000</td>\n",
              "      <td>2.000000</td>\n",
              "      <td>40.000000</td>\n",
              "    </tr>\n",
              "    <tr>\n",
              "      <th>75%</th>\n",
              "      <td>24.127500</td>\n",
              "      <td>3.562500</td>\n",
              "      <td>3.000000</td>\n",
              "      <td>44.000000</td>\n",
              "    </tr>\n",
              "    <tr>\n",
              "      <th>max</th>\n",
              "      <td>50.810000</td>\n",
              "      <td>10.000000</td>\n",
              "      <td>6.000000</td>\n",
              "      <td>53.000000</td>\n",
              "    </tr>\n",
              "  </tbody>\n",
              "</table>\n",
              "</div>"
            ],
            "text/plain": [
              "       total_conta     gorjeta  pessoas_mesa  tempo_permanencia\n",
              "count   244.000000  244.000000    244.000000         244.000000\n",
              "mean     19.785943    2.998279      2.569672          40.262295\n",
              "std       8.902412    1.383638      0.951100           5.157285\n",
              "min       3.070000    1.000000      1.000000          26.000000\n",
              "25%      13.347500    2.000000      2.000000          37.000000\n",
              "50%      17.795000    2.900000      2.000000          40.000000\n",
              "75%      24.127500    3.562500      3.000000          44.000000\n",
              "max      50.810000   10.000000      6.000000          53.000000"
            ]
          },
          "metadata": {
            "tags": []
          },
          "execution_count": 82
        }
      ]
    },
    {
      "metadata": {
        "id": "DSYWD-pqYpeY",
        "colab_type": "code",
        "colab": {
          "base_uri": "https://localhost:8080/",
          "height": 170
        },
        "outputId": "7b184852-c127-4fb9-a9da-e825c835d096"
      },
      "cell_type": "code",
      "source": [
        "tips_data['total_conta'].describe()"
      ],
      "execution_count": 83,
      "outputs": [
        {
          "output_type": "execute_result",
          "data": {
            "text/plain": [
              "count    244.000000\n",
              "mean      19.785943\n",
              "std        8.902412\n",
              "min        3.070000\n",
              "25%       13.347500\n",
              "50%       17.795000\n",
              "75%       24.127500\n",
              "max       50.810000\n",
              "Name: total_conta, dtype: float64"
            ]
          },
          "metadata": {
            "tags": []
          },
          "execution_count": 83
        }
      ]
    }
  ]
}